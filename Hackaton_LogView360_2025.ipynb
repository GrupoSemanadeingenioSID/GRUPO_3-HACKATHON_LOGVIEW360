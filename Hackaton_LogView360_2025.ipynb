{
  "nbformat": 4,
  "nbformat_minor": 0,
  "metadata": {
    "colab": {
      "provenance": []
    },
    "kernelspec": {
      "name": "python3",
      "display_name": "Python 3"
    },
    "language_info": {
      "name": "python"
    }
  },
  "cells": [
    {
      "cell_type": "markdown",
      "source": [
        "# Hackaton LogView360 2025\n",
        "\n",
        "1. Carlos Gongora\n",
        "2. Santiago Aldana\n",
        "3. Daniela Hernandez"
      ],
      "metadata": {
        "id": "bJQm-vjlhgHE"
      }
    },
    {
      "cell_type": "markdown",
      "source": [
        "# Montamos en el drive los archivos"
      ],
      "metadata": {
        "id": "AgZhTFr-pLUQ"
      }
    },
    {
      "cell_type": "code",
      "source": [
        "from google.colab import drive\n",
        "drive.mount('/content/drive')"
      ],
      "metadata": {
        "colab": {
          "base_uri": "https://localhost:8080/"
        },
        "id": "XHWKw_zFpSNP",
        "outputId": "90889b39-853f-4337-bcee-c34802d25e9b"
      },
      "execution_count": 224,
      "outputs": [
        {
          "output_type": "stream",
          "name": "stdout",
          "text": [
            "Drive already mounted at /content/drive; to attempt to forcibly remount, call drive.mount(\"/content/drive\", force_remount=True).\n"
          ]
        }
      ]
    },
    {
      "cell_type": "markdown",
      "source": [
        "# Importamos las librerias necesarias"
      ],
      "metadata": {
        "id": "KgkxHAEyrYJS"
      }
    },
    {
      "cell_type": "code",
      "source": [
        "import pandas as pd\n",
        "import re\n",
        "import csv"
      ],
      "metadata": {
        "id": "ivLaP0eJrbUa"
      },
      "execution_count": 226,
      "outputs": []
    },
    {
      "cell_type": "markdown",
      "source": [
        "# Modulo 1: Preprocesamiento de logs\n",
        "## 1.1. Convertir los tres formatos en una estructura homogenea\n",
        "\n",
        "En este apartado se convirtieron todos los datos seleccionados en un mismo formato, que en este caso es .csv. Previamente con la ayuda de Exel se transformo el archivo __logs_SecuCheck.json__"
      ],
      "metadata": {
        "id": "uuaphzSdkv7C"
      }
    },
    {
      "cell_type": "markdown",
      "source": [
        "Ahora aca transformamos el archivo __logs_CoreBank.log__ en un .csv con ayuda del siguiente script que crea una expresion regular y procesa el archivo."
      ],
      "metadata": {
        "id": "uvRAQdvXp9No"
      }
    },
    {
      "cell_type": "code",
      "execution_count": 230,
      "metadata": {
        "id": "14Fya9Fwgzb7"
      },
      "outputs": [],
      "source": [
        "\n",
        "from google.colab import drive\n",
        "\n",
        "\n",
        "# Rutas\n",
        "input_path = \"/content/drive/MyDrive/Hackaton LogView 2025/logs_CoreBank.log\"\n",
        "output_path = \"/content/drive/MyDrive/Hackaton LogView 2025/logs_CoreBank.csv\"\n",
        "\n",
        "# Expresión regular\n",
        "pattern = re.compile(\n",
        "    r\"(?P<fecha>\\d{4}-\\d{2}-\\d{2}) (?P<hora>\\d{2}:\\d{2}:\\d{2}) INFO \\[(?P<origen>\\w+)\\] (?P<usuario>\\w+)@(?P<ip>[\\d\\.]+) Transacción ejecutada \\(transaction: (?P<transaccion>\\w+-\\d+), tipo: (?P<tipo>\\w+), cuenta: (?P<cuenta>\\w+), estado: (?P<estado>\\w+), valor: (?P<valor>[\\d\\.]+)\\)\"\n",
        ")\n",
        "\n",
        "# Procesar archivo\n",
        "with open(input_path, \"r\", encoding=\"utf-8\") as infile, open(output_path, \"w\", newline=\"\", encoding=\"utf-8\") as outfile:\n",
        "    writer = csv.writer(outfile)\n",
        "    writer.writerow([\"date_core\", \"time_core\", \"nivel_log\", \"origen\", \"user_id\", \"ip_address\", \"transaction_id\", \"tipo\", \"cuenta\", \"estado\", \"valor\"])\n",
        "\n",
        "    for line in infile:\n",
        "        match = pattern.search(line)\n",
        "        if match:\n",
        "            writer.writerow([\n",
        "                match.group(\"fecha\"),\n",
        "                match.group(\"hora\"),\n",
        "                \"INFO\",\n",
        "                match.group(\"origen\"),\n",
        "                match.group(\"usuario\"),\n",
        "                match.group(\"ip\"),\n",
        "                match.group(\"transaccion\"),\n",
        "                match.group(\"tipo\"),\n",
        "                match.group(\"cuenta\"),\n",
        "                match.group(\"estado\"),\n",
        "                match.group(\"valor\")\n",
        "            ])"
      ]
    },
    {
      "cell_type": "markdown",
      "source": [
        "## Mostramos los datos\n",
        "### Tabla de logs_CoreBank"
      ],
      "metadata": {
        "id": "RjZImKpvq8lM"
      }
    },
    {
      "cell_type": "code",
      "source": [
        "# Ruta al archivo CSV generado\n",
        "csv_path = \"/content/drive/MyDrive/Hackaton LogView 2025/logs_CoreBank.csv\"\n",
        "\n",
        "# Leer con pandas\n",
        "lcb = pd.read_csv(csv_path)\n",
        "\n",
        "# Mostrar las primeras filas\n",
        "lcb.head()"
      ],
      "metadata": {
        "colab": {
          "base_uri": "https://localhost:8080/",
          "height": 206
        },
        "id": "yB-KVLARrl9B",
        "outputId": "6d145006-efa9-44c0-c6d9-93dabc103379"
      },
      "execution_count": 231,
      "outputs": [
        {
          "output_type": "execute_result",
          "data": {
            "text/plain": [
              "    date_core time_core nivel_log  origen user_id       ip_address  \\\n",
              "0  2025-05-13  08:00:10      INFO  mobile  user65     198.81.20.19   \n",
              "1  2025-05-13  08:00:11      INFO  mobile  user94     92.100.49.61   \n",
              "2  2025-05-13  08:00:12      INFO  mobile  user93    35.10.214.169   \n",
              "3  2025-05-13  08:00:13      INFO     api  user39  155.165.170.170   \n",
              "4  2025-05-13  08:00:14      INFO  mobile  user88    137.102.49.12   \n",
              "\n",
              "  transaction_id        tipo     cuenta      estado       valor  \n",
              "0       txn-0000   consignar    ahorros  Completada   429947.36  \n",
              "1       txn-0001     retirar    ahorros  Completada  1466275.85  \n",
              "2       txn-0002  transferir    ahorros  Completada  3764977.62  \n",
              "3       txn-0003  transferir  corriente  Completada  4780695.73  \n",
              "4       txn-0004  transferir    ahorros  Completada  3808884.49  "
            ],
            "text/html": [
              "\n",
              "  <div id=\"df-d7da1d5b-8473-48f1-876f-fa762a27862c\" class=\"colab-df-container\">\n",
              "    <div>\n",
              "<style scoped>\n",
              "    .dataframe tbody tr th:only-of-type {\n",
              "        vertical-align: middle;\n",
              "    }\n",
              "\n",
              "    .dataframe tbody tr th {\n",
              "        vertical-align: top;\n",
              "    }\n",
              "\n",
              "    .dataframe thead th {\n",
              "        text-align: right;\n",
              "    }\n",
              "</style>\n",
              "<table border=\"1\" class=\"dataframe\">\n",
              "  <thead>\n",
              "    <tr style=\"text-align: right;\">\n",
              "      <th></th>\n",
              "      <th>date_core</th>\n",
              "      <th>time_core</th>\n",
              "      <th>nivel_log</th>\n",
              "      <th>origen</th>\n",
              "      <th>user_id</th>\n",
              "      <th>ip_address</th>\n",
              "      <th>transaction_id</th>\n",
              "      <th>tipo</th>\n",
              "      <th>cuenta</th>\n",
              "      <th>estado</th>\n",
              "      <th>valor</th>\n",
              "    </tr>\n",
              "  </thead>\n",
              "  <tbody>\n",
              "    <tr>\n",
              "      <th>0</th>\n",
              "      <td>2025-05-13</td>\n",
              "      <td>08:00:10</td>\n",
              "      <td>INFO</td>\n",
              "      <td>mobile</td>\n",
              "      <td>user65</td>\n",
              "      <td>198.81.20.19</td>\n",
              "      <td>txn-0000</td>\n",
              "      <td>consignar</td>\n",
              "      <td>ahorros</td>\n",
              "      <td>Completada</td>\n",
              "      <td>429947.36</td>\n",
              "    </tr>\n",
              "    <tr>\n",
              "      <th>1</th>\n",
              "      <td>2025-05-13</td>\n",
              "      <td>08:00:11</td>\n",
              "      <td>INFO</td>\n",
              "      <td>mobile</td>\n",
              "      <td>user94</td>\n",
              "      <td>92.100.49.61</td>\n",
              "      <td>txn-0001</td>\n",
              "      <td>retirar</td>\n",
              "      <td>ahorros</td>\n",
              "      <td>Completada</td>\n",
              "      <td>1466275.85</td>\n",
              "    </tr>\n",
              "    <tr>\n",
              "      <th>2</th>\n",
              "      <td>2025-05-13</td>\n",
              "      <td>08:00:12</td>\n",
              "      <td>INFO</td>\n",
              "      <td>mobile</td>\n",
              "      <td>user93</td>\n",
              "      <td>35.10.214.169</td>\n",
              "      <td>txn-0002</td>\n",
              "      <td>transferir</td>\n",
              "      <td>ahorros</td>\n",
              "      <td>Completada</td>\n",
              "      <td>3764977.62</td>\n",
              "    </tr>\n",
              "    <tr>\n",
              "      <th>3</th>\n",
              "      <td>2025-05-13</td>\n",
              "      <td>08:00:13</td>\n",
              "      <td>INFO</td>\n",
              "      <td>api</td>\n",
              "      <td>user39</td>\n",
              "      <td>155.165.170.170</td>\n",
              "      <td>txn-0003</td>\n",
              "      <td>transferir</td>\n",
              "      <td>corriente</td>\n",
              "      <td>Completada</td>\n",
              "      <td>4780695.73</td>\n",
              "    </tr>\n",
              "    <tr>\n",
              "      <th>4</th>\n",
              "      <td>2025-05-13</td>\n",
              "      <td>08:00:14</td>\n",
              "      <td>INFO</td>\n",
              "      <td>mobile</td>\n",
              "      <td>user88</td>\n",
              "      <td>137.102.49.12</td>\n",
              "      <td>txn-0004</td>\n",
              "      <td>transferir</td>\n",
              "      <td>ahorros</td>\n",
              "      <td>Completada</td>\n",
              "      <td>3808884.49</td>\n",
              "    </tr>\n",
              "  </tbody>\n",
              "</table>\n",
              "</div>\n",
              "    <div class=\"colab-df-buttons\">\n",
              "\n",
              "  <div class=\"colab-df-container\">\n",
              "    <button class=\"colab-df-convert\" onclick=\"convertToInteractive('df-d7da1d5b-8473-48f1-876f-fa762a27862c')\"\n",
              "            title=\"Convert this dataframe to an interactive table.\"\n",
              "            style=\"display:none;\">\n",
              "\n",
              "  <svg xmlns=\"http://www.w3.org/2000/svg\" height=\"24px\" viewBox=\"0 -960 960 960\">\n",
              "    <path d=\"M120-120v-720h720v720H120Zm60-500h600v-160H180v160Zm220 220h160v-160H400v160Zm0 220h160v-160H400v160ZM180-400h160v-160H180v160Zm440 0h160v-160H620v160ZM180-180h160v-160H180v160Zm440 0h160v-160H620v160Z\"/>\n",
              "  </svg>\n",
              "    </button>\n",
              "\n",
              "  <style>\n",
              "    .colab-df-container {\n",
              "      display:flex;\n",
              "      gap: 12px;\n",
              "    }\n",
              "\n",
              "    .colab-df-convert {\n",
              "      background-color: #E8F0FE;\n",
              "      border: none;\n",
              "      border-radius: 50%;\n",
              "      cursor: pointer;\n",
              "      display: none;\n",
              "      fill: #1967D2;\n",
              "      height: 32px;\n",
              "      padding: 0 0 0 0;\n",
              "      width: 32px;\n",
              "    }\n",
              "\n",
              "    .colab-df-convert:hover {\n",
              "      background-color: #E2EBFA;\n",
              "      box-shadow: 0px 1px 2px rgba(60, 64, 67, 0.3), 0px 1px 3px 1px rgba(60, 64, 67, 0.15);\n",
              "      fill: #174EA6;\n",
              "    }\n",
              "\n",
              "    .colab-df-buttons div {\n",
              "      margin-bottom: 4px;\n",
              "    }\n",
              "\n",
              "    [theme=dark] .colab-df-convert {\n",
              "      background-color: #3B4455;\n",
              "      fill: #D2E3FC;\n",
              "    }\n",
              "\n",
              "    [theme=dark] .colab-df-convert:hover {\n",
              "      background-color: #434B5C;\n",
              "      box-shadow: 0px 1px 3px 1px rgba(0, 0, 0, 0.15);\n",
              "      filter: drop-shadow(0px 1px 2px rgba(0, 0, 0, 0.3));\n",
              "      fill: #FFFFFF;\n",
              "    }\n",
              "  </style>\n",
              "\n",
              "    <script>\n",
              "      const buttonEl =\n",
              "        document.querySelector('#df-d7da1d5b-8473-48f1-876f-fa762a27862c button.colab-df-convert');\n",
              "      buttonEl.style.display =\n",
              "        google.colab.kernel.accessAllowed ? 'block' : 'none';\n",
              "\n",
              "      async function convertToInteractive(key) {\n",
              "        const element = document.querySelector('#df-d7da1d5b-8473-48f1-876f-fa762a27862c');\n",
              "        const dataTable =\n",
              "          await google.colab.kernel.invokeFunction('convertToInteractive',\n",
              "                                                    [key], {});\n",
              "        if (!dataTable) return;\n",
              "\n",
              "        const docLinkHtml = 'Like what you see? Visit the ' +\n",
              "          '<a target=\"_blank\" href=https://colab.research.google.com/notebooks/data_table.ipynb>data table notebook</a>'\n",
              "          + ' to learn more about interactive tables.';\n",
              "        element.innerHTML = '';\n",
              "        dataTable['output_type'] = 'display_data';\n",
              "        await google.colab.output.renderOutput(dataTable, element);\n",
              "        const docLink = document.createElement('div');\n",
              "        docLink.innerHTML = docLinkHtml;\n",
              "        element.appendChild(docLink);\n",
              "      }\n",
              "    </script>\n",
              "  </div>\n",
              "\n",
              "\n",
              "    <div id=\"df-2b65956c-8a65-4819-b3f4-5ad8197cffc3\">\n",
              "      <button class=\"colab-df-quickchart\" onclick=\"quickchart('df-2b65956c-8a65-4819-b3f4-5ad8197cffc3')\"\n",
              "                title=\"Suggest charts\"\n",
              "                style=\"display:none;\">\n",
              "\n",
              "<svg xmlns=\"http://www.w3.org/2000/svg\" height=\"24px\"viewBox=\"0 0 24 24\"\n",
              "     width=\"24px\">\n",
              "    <g>\n",
              "        <path d=\"M19 3H5c-1.1 0-2 .9-2 2v14c0 1.1.9 2 2 2h14c1.1 0 2-.9 2-2V5c0-1.1-.9-2-2-2zM9 17H7v-7h2v7zm4 0h-2V7h2v10zm4 0h-2v-4h2v4z\"/>\n",
              "    </g>\n",
              "</svg>\n",
              "      </button>\n",
              "\n",
              "<style>\n",
              "  .colab-df-quickchart {\n",
              "      --bg-color: #E8F0FE;\n",
              "      --fill-color: #1967D2;\n",
              "      --hover-bg-color: #E2EBFA;\n",
              "      --hover-fill-color: #174EA6;\n",
              "      --disabled-fill-color: #AAA;\n",
              "      --disabled-bg-color: #DDD;\n",
              "  }\n",
              "\n",
              "  [theme=dark] .colab-df-quickchart {\n",
              "      --bg-color: #3B4455;\n",
              "      --fill-color: #D2E3FC;\n",
              "      --hover-bg-color: #434B5C;\n",
              "      --hover-fill-color: #FFFFFF;\n",
              "      --disabled-bg-color: #3B4455;\n",
              "      --disabled-fill-color: #666;\n",
              "  }\n",
              "\n",
              "  .colab-df-quickchart {\n",
              "    background-color: var(--bg-color);\n",
              "    border: none;\n",
              "    border-radius: 50%;\n",
              "    cursor: pointer;\n",
              "    display: none;\n",
              "    fill: var(--fill-color);\n",
              "    height: 32px;\n",
              "    padding: 0;\n",
              "    width: 32px;\n",
              "  }\n",
              "\n",
              "  .colab-df-quickchart:hover {\n",
              "    background-color: var(--hover-bg-color);\n",
              "    box-shadow: 0 1px 2px rgba(60, 64, 67, 0.3), 0 1px 3px 1px rgba(60, 64, 67, 0.15);\n",
              "    fill: var(--button-hover-fill-color);\n",
              "  }\n",
              "\n",
              "  .colab-df-quickchart-complete:disabled,\n",
              "  .colab-df-quickchart-complete:disabled:hover {\n",
              "    background-color: var(--disabled-bg-color);\n",
              "    fill: var(--disabled-fill-color);\n",
              "    box-shadow: none;\n",
              "  }\n",
              "\n",
              "  .colab-df-spinner {\n",
              "    border: 2px solid var(--fill-color);\n",
              "    border-color: transparent;\n",
              "    border-bottom-color: var(--fill-color);\n",
              "    animation:\n",
              "      spin 1s steps(1) infinite;\n",
              "  }\n",
              "\n",
              "  @keyframes spin {\n",
              "    0% {\n",
              "      border-color: transparent;\n",
              "      border-bottom-color: var(--fill-color);\n",
              "      border-left-color: var(--fill-color);\n",
              "    }\n",
              "    20% {\n",
              "      border-color: transparent;\n",
              "      border-left-color: var(--fill-color);\n",
              "      border-top-color: var(--fill-color);\n",
              "    }\n",
              "    30% {\n",
              "      border-color: transparent;\n",
              "      border-left-color: var(--fill-color);\n",
              "      border-top-color: var(--fill-color);\n",
              "      border-right-color: var(--fill-color);\n",
              "    }\n",
              "    40% {\n",
              "      border-color: transparent;\n",
              "      border-right-color: var(--fill-color);\n",
              "      border-top-color: var(--fill-color);\n",
              "    }\n",
              "    60% {\n",
              "      border-color: transparent;\n",
              "      border-right-color: var(--fill-color);\n",
              "    }\n",
              "    80% {\n",
              "      border-color: transparent;\n",
              "      border-right-color: var(--fill-color);\n",
              "      border-bottom-color: var(--fill-color);\n",
              "    }\n",
              "    90% {\n",
              "      border-color: transparent;\n",
              "      border-bottom-color: var(--fill-color);\n",
              "    }\n",
              "  }\n",
              "</style>\n",
              "\n",
              "      <script>\n",
              "        async function quickchart(key) {\n",
              "          const quickchartButtonEl =\n",
              "            document.querySelector('#' + key + ' button');\n",
              "          quickchartButtonEl.disabled = true;  // To prevent multiple clicks.\n",
              "          quickchartButtonEl.classList.add('colab-df-spinner');\n",
              "          try {\n",
              "            const charts = await google.colab.kernel.invokeFunction(\n",
              "                'suggestCharts', [key], {});\n",
              "          } catch (error) {\n",
              "            console.error('Error during call to suggestCharts:', error);\n",
              "          }\n",
              "          quickchartButtonEl.classList.remove('colab-df-spinner');\n",
              "          quickchartButtonEl.classList.add('colab-df-quickchart-complete');\n",
              "        }\n",
              "        (() => {\n",
              "          let quickchartButtonEl =\n",
              "            document.querySelector('#df-2b65956c-8a65-4819-b3f4-5ad8197cffc3 button');\n",
              "          quickchartButtonEl.style.display =\n",
              "            google.colab.kernel.accessAllowed ? 'block' : 'none';\n",
              "        })();\n",
              "      </script>\n",
              "    </div>\n",
              "\n",
              "    </div>\n",
              "  </div>\n"
            ],
            "application/vnd.google.colaboratory.intrinsic+json": {
              "type": "dataframe",
              "variable_name": "lcb",
              "summary": "{\n  \"name\": \"lcb\",\n  \"rows\": 873,\n  \"fields\": [\n    {\n      \"column\": \"date_core\",\n      \"properties\": {\n        \"dtype\": \"object\",\n        \"num_unique_values\": 1,\n        \"samples\": [\n          \"2025-05-13\"\n        ],\n        \"semantic_type\": \"\",\n        \"description\": \"\"\n      }\n    },\n    {\n      \"column\": \"time_core\",\n      \"properties\": {\n        \"dtype\": \"object\",\n        \"num_unique_values\": 873,\n        \"samples\": [\n          \"08:15:23\"\n        ],\n        \"semantic_type\": \"\",\n        \"description\": \"\"\n      }\n    },\n    {\n      \"column\": \"nivel_log\",\n      \"properties\": {\n        \"dtype\": \"category\",\n        \"num_unique_values\": 1,\n        \"samples\": [\n          \"INFO\"\n        ],\n        \"semantic_type\": \"\",\n        \"description\": \"\"\n      }\n    },\n    {\n      \"column\": \"origen\",\n      \"properties\": {\n        \"dtype\": \"category\",\n        \"num_unique_values\": 3,\n        \"samples\": [\n          \"mobile\"\n        ],\n        \"semantic_type\": \"\",\n        \"description\": \"\"\n      }\n    },\n    {\n      \"column\": \"user_id\",\n      \"properties\": {\n        \"dtype\": \"category\",\n        \"num_unique_values\": 100,\n        \"samples\": [\n          \"user90\"\n        ],\n        \"semantic_type\": \"\",\n        \"description\": \"\"\n      }\n    },\n    {\n      \"column\": \"ip_address\",\n      \"properties\": {\n        \"dtype\": \"string\",\n        \"num_unique_values\": 873,\n        \"samples\": [\n          \"137.104.69.118\"\n        ],\n        \"semantic_type\": \"\",\n        \"description\": \"\"\n      }\n    },\n    {\n      \"column\": \"transaction_id\",\n      \"properties\": {\n        \"dtype\": \"string\",\n        \"num_unique_values\": 873,\n        \"samples\": [\n          \"txn-0913\"\n        ],\n        \"semantic_type\": \"\",\n        \"description\": \"\"\n      }\n    },\n    {\n      \"column\": \"tipo\",\n      \"properties\": {\n        \"dtype\": \"category\",\n        \"num_unique_values\": 3,\n        \"samples\": [\n          \"consignar\"\n        ],\n        \"semantic_type\": \"\",\n        \"description\": \"\"\n      }\n    },\n    {\n      \"column\": \"cuenta\",\n      \"properties\": {\n        \"dtype\": \"category\",\n        \"num_unique_values\": 2,\n        \"samples\": [\n          \"corriente\"\n        ],\n        \"semantic_type\": \"\",\n        \"description\": \"\"\n      }\n    },\n    {\n      \"column\": \"estado\",\n      \"properties\": {\n        \"dtype\": \"category\",\n        \"num_unique_values\": 1,\n        \"samples\": [\n          \"Completada\"\n        ],\n        \"semantic_type\": \"\",\n        \"description\": \"\"\n      }\n    },\n    {\n      \"column\": \"valor\",\n      \"properties\": {\n        \"dtype\": \"number\",\n        \"std\": 1452299.513938704,\n        \"min\": 15216.0,\n        \"max\": 4996641.38,\n        \"num_unique_values\": 873,\n        \"samples\": [\n          680295.98\n        ],\n        \"semantic_type\": \"\",\n        \"description\": \"\"\n      }\n    }\n  ]\n}"
            }
          },
          "metadata": {},
          "execution_count": 231
        }
      ]
    },
    {
      "cell_type": "markdown",
      "source": [
        "### Tabla de SecuCheck.csv"
      ],
      "metadata": {
        "id": "eiVTdwQas4cZ"
      }
    },
    {
      "cell_type": "code",
      "source": [
        "# Ruta al archivo CSV\n",
        "csv_path = \"/content/drive/MyDrive/Hackaton LogView 2025/logs_SecuCheck.csv\"\n",
        "\n",
        "# Leer con pandas\n",
        "lsc = pd.read_csv(csv_path, encoding='latin-1')\n",
        "\n",
        "# Mostrar las primeras filas\n",
        "lsc.head()"
      ],
      "metadata": {
        "colab": {
          "base_uri": "https://localhost:8080/",
          "height": 206
        },
        "id": "PjOhkh4ls8X_",
        "outputId": "d2b5e402-2080-4101-9a0b-fb88f49f2afb"
      },
      "execution_count": 232,
      "outputs": [
        {
          "output_type": "execute_result",
          "data": {
            "text/plain": [
              "    date_secu       time_secu transaction_id user_id       ip_address  \\\n",
              "0  13/05/2025  08:00:00 a. m.       txn-0000  user65     198.81.20.19   \n",
              "1  13/05/2025  08:00:01 a. m.       txn-0001  user94     92.100.49.61   \n",
              "2  13/05/2025  08:00:02 a. m.       txn-0002  user93    35.10.214.169   \n",
              "3  13/05/2025  08:00:03 a. m.       txn-0003  user39  155.165.170.170   \n",
              "4  13/05/2025  08:00:04 a. m.       txn-0004  user88    137.102.49.12   \n",
              "\n",
              "  resultado_validación motivo_fallo  modulo  \\\n",
              "0             Aprobada          NaN  mobile   \n",
              "1             Aprobada          NaN  mobile   \n",
              "2             Aprobada          NaN  mobile   \n",
              "3             Aprobada          NaN     api   \n",
              "4             Aprobada          NaN  mobile   \n",
              "\n",
              "              verificaciones_realizadas  \n",
              "0                            frecuencia  \n",
              "1      token,frecuencia,geolocalización  \n",
              "2       geolocalización,token,blacklist  \n",
              "3  blacklist,geolocalización,frecuencia  \n",
              "4                       geolocalización  "
            ],
            "text/html": [
              "\n",
              "  <div id=\"df-26da7569-53fa-4035-b733-8d0f68d1abc6\" class=\"colab-df-container\">\n",
              "    <div>\n",
              "<style scoped>\n",
              "    .dataframe tbody tr th:only-of-type {\n",
              "        vertical-align: middle;\n",
              "    }\n",
              "\n",
              "    .dataframe tbody tr th {\n",
              "        vertical-align: top;\n",
              "    }\n",
              "\n",
              "    .dataframe thead th {\n",
              "        text-align: right;\n",
              "    }\n",
              "</style>\n",
              "<table border=\"1\" class=\"dataframe\">\n",
              "  <thead>\n",
              "    <tr style=\"text-align: right;\">\n",
              "      <th></th>\n",
              "      <th>date_secu</th>\n",
              "      <th>time_secu</th>\n",
              "      <th>transaction_id</th>\n",
              "      <th>user_id</th>\n",
              "      <th>ip_address</th>\n",
              "      <th>resultado_validación</th>\n",
              "      <th>motivo_fallo</th>\n",
              "      <th>modulo</th>\n",
              "      <th>verificaciones_realizadas</th>\n",
              "    </tr>\n",
              "  </thead>\n",
              "  <tbody>\n",
              "    <tr>\n",
              "      <th>0</th>\n",
              "      <td>13/05/2025</td>\n",
              "      <td>08:00:00 a. m.</td>\n",
              "      <td>txn-0000</td>\n",
              "      <td>user65</td>\n",
              "      <td>198.81.20.19</td>\n",
              "      <td>Aprobada</td>\n",
              "      <td>NaN</td>\n",
              "      <td>mobile</td>\n",
              "      <td>frecuencia</td>\n",
              "    </tr>\n",
              "    <tr>\n",
              "      <th>1</th>\n",
              "      <td>13/05/2025</td>\n",
              "      <td>08:00:01 a. m.</td>\n",
              "      <td>txn-0001</td>\n",
              "      <td>user94</td>\n",
              "      <td>92.100.49.61</td>\n",
              "      <td>Aprobada</td>\n",
              "      <td>NaN</td>\n",
              "      <td>mobile</td>\n",
              "      <td>token,frecuencia,geolocalización</td>\n",
              "    </tr>\n",
              "    <tr>\n",
              "      <th>2</th>\n",
              "      <td>13/05/2025</td>\n",
              "      <td>08:00:02 a. m.</td>\n",
              "      <td>txn-0002</td>\n",
              "      <td>user93</td>\n",
              "      <td>35.10.214.169</td>\n",
              "      <td>Aprobada</td>\n",
              "      <td>NaN</td>\n",
              "      <td>mobile</td>\n",
              "      <td>geolocalización,token,blacklist</td>\n",
              "    </tr>\n",
              "    <tr>\n",
              "      <th>3</th>\n",
              "      <td>13/05/2025</td>\n",
              "      <td>08:00:03 a. m.</td>\n",
              "      <td>txn-0003</td>\n",
              "      <td>user39</td>\n",
              "      <td>155.165.170.170</td>\n",
              "      <td>Aprobada</td>\n",
              "      <td>NaN</td>\n",
              "      <td>api</td>\n",
              "      <td>blacklist,geolocalización,frecuencia</td>\n",
              "    </tr>\n",
              "    <tr>\n",
              "      <th>4</th>\n",
              "      <td>13/05/2025</td>\n",
              "      <td>08:00:04 a. m.</td>\n",
              "      <td>txn-0004</td>\n",
              "      <td>user88</td>\n",
              "      <td>137.102.49.12</td>\n",
              "      <td>Aprobada</td>\n",
              "      <td>NaN</td>\n",
              "      <td>mobile</td>\n",
              "      <td>geolocalización</td>\n",
              "    </tr>\n",
              "  </tbody>\n",
              "</table>\n",
              "</div>\n",
              "    <div class=\"colab-df-buttons\">\n",
              "\n",
              "  <div class=\"colab-df-container\">\n",
              "    <button class=\"colab-df-convert\" onclick=\"convertToInteractive('df-26da7569-53fa-4035-b733-8d0f68d1abc6')\"\n",
              "            title=\"Convert this dataframe to an interactive table.\"\n",
              "            style=\"display:none;\">\n",
              "\n",
              "  <svg xmlns=\"http://www.w3.org/2000/svg\" height=\"24px\" viewBox=\"0 -960 960 960\">\n",
              "    <path d=\"M120-120v-720h720v720H120Zm60-500h600v-160H180v160Zm220 220h160v-160H400v160Zm0 220h160v-160H400v160ZM180-400h160v-160H180v160Zm440 0h160v-160H620v160ZM180-180h160v-160H180v160Zm440 0h160v-160H620v160Z\"/>\n",
              "  </svg>\n",
              "    </button>\n",
              "\n",
              "  <style>\n",
              "    .colab-df-container {\n",
              "      display:flex;\n",
              "      gap: 12px;\n",
              "    }\n",
              "\n",
              "    .colab-df-convert {\n",
              "      background-color: #E8F0FE;\n",
              "      border: none;\n",
              "      border-radius: 50%;\n",
              "      cursor: pointer;\n",
              "      display: none;\n",
              "      fill: #1967D2;\n",
              "      height: 32px;\n",
              "      padding: 0 0 0 0;\n",
              "      width: 32px;\n",
              "    }\n",
              "\n",
              "    .colab-df-convert:hover {\n",
              "      background-color: #E2EBFA;\n",
              "      box-shadow: 0px 1px 2px rgba(60, 64, 67, 0.3), 0px 1px 3px 1px rgba(60, 64, 67, 0.15);\n",
              "      fill: #174EA6;\n",
              "    }\n",
              "\n",
              "    .colab-df-buttons div {\n",
              "      margin-bottom: 4px;\n",
              "    }\n",
              "\n",
              "    [theme=dark] .colab-df-convert {\n",
              "      background-color: #3B4455;\n",
              "      fill: #D2E3FC;\n",
              "    }\n",
              "\n",
              "    [theme=dark] .colab-df-convert:hover {\n",
              "      background-color: #434B5C;\n",
              "      box-shadow: 0px 1px 3px 1px rgba(0, 0, 0, 0.15);\n",
              "      filter: drop-shadow(0px 1px 2px rgba(0, 0, 0, 0.3));\n",
              "      fill: #FFFFFF;\n",
              "    }\n",
              "  </style>\n",
              "\n",
              "    <script>\n",
              "      const buttonEl =\n",
              "        document.querySelector('#df-26da7569-53fa-4035-b733-8d0f68d1abc6 button.colab-df-convert');\n",
              "      buttonEl.style.display =\n",
              "        google.colab.kernel.accessAllowed ? 'block' : 'none';\n",
              "\n",
              "      async function convertToInteractive(key) {\n",
              "        const element = document.querySelector('#df-26da7569-53fa-4035-b733-8d0f68d1abc6');\n",
              "        const dataTable =\n",
              "          await google.colab.kernel.invokeFunction('convertToInteractive',\n",
              "                                                    [key], {});\n",
              "        if (!dataTable) return;\n",
              "\n",
              "        const docLinkHtml = 'Like what you see? Visit the ' +\n",
              "          '<a target=\"_blank\" href=https://colab.research.google.com/notebooks/data_table.ipynb>data table notebook</a>'\n",
              "          + ' to learn more about interactive tables.';\n",
              "        element.innerHTML = '';\n",
              "        dataTable['output_type'] = 'display_data';\n",
              "        await google.colab.output.renderOutput(dataTable, element);\n",
              "        const docLink = document.createElement('div');\n",
              "        docLink.innerHTML = docLinkHtml;\n",
              "        element.appendChild(docLink);\n",
              "      }\n",
              "    </script>\n",
              "  </div>\n",
              "\n",
              "\n",
              "    <div id=\"df-400b8a7a-c302-4982-9d33-4b25faa1716c\">\n",
              "      <button class=\"colab-df-quickchart\" onclick=\"quickchart('df-400b8a7a-c302-4982-9d33-4b25faa1716c')\"\n",
              "                title=\"Suggest charts\"\n",
              "                style=\"display:none;\">\n",
              "\n",
              "<svg xmlns=\"http://www.w3.org/2000/svg\" height=\"24px\"viewBox=\"0 0 24 24\"\n",
              "     width=\"24px\">\n",
              "    <g>\n",
              "        <path d=\"M19 3H5c-1.1 0-2 .9-2 2v14c0 1.1.9 2 2 2h14c1.1 0 2-.9 2-2V5c0-1.1-.9-2-2-2zM9 17H7v-7h2v7zm4 0h-2V7h2v10zm4 0h-2v-4h2v4z\"/>\n",
              "    </g>\n",
              "</svg>\n",
              "      </button>\n",
              "\n",
              "<style>\n",
              "  .colab-df-quickchart {\n",
              "      --bg-color: #E8F0FE;\n",
              "      --fill-color: #1967D2;\n",
              "      --hover-bg-color: #E2EBFA;\n",
              "      --hover-fill-color: #174EA6;\n",
              "      --disabled-fill-color: #AAA;\n",
              "      --disabled-bg-color: #DDD;\n",
              "  }\n",
              "\n",
              "  [theme=dark] .colab-df-quickchart {\n",
              "      --bg-color: #3B4455;\n",
              "      --fill-color: #D2E3FC;\n",
              "      --hover-bg-color: #434B5C;\n",
              "      --hover-fill-color: #FFFFFF;\n",
              "      --disabled-bg-color: #3B4455;\n",
              "      --disabled-fill-color: #666;\n",
              "  }\n",
              "\n",
              "  .colab-df-quickchart {\n",
              "    background-color: var(--bg-color);\n",
              "    border: none;\n",
              "    border-radius: 50%;\n",
              "    cursor: pointer;\n",
              "    display: none;\n",
              "    fill: var(--fill-color);\n",
              "    height: 32px;\n",
              "    padding: 0;\n",
              "    width: 32px;\n",
              "  }\n",
              "\n",
              "  .colab-df-quickchart:hover {\n",
              "    background-color: var(--hover-bg-color);\n",
              "    box-shadow: 0 1px 2px rgba(60, 64, 67, 0.3), 0 1px 3px 1px rgba(60, 64, 67, 0.15);\n",
              "    fill: var(--button-hover-fill-color);\n",
              "  }\n",
              "\n",
              "  .colab-df-quickchart-complete:disabled,\n",
              "  .colab-df-quickchart-complete:disabled:hover {\n",
              "    background-color: var(--disabled-bg-color);\n",
              "    fill: var(--disabled-fill-color);\n",
              "    box-shadow: none;\n",
              "  }\n",
              "\n",
              "  .colab-df-spinner {\n",
              "    border: 2px solid var(--fill-color);\n",
              "    border-color: transparent;\n",
              "    border-bottom-color: var(--fill-color);\n",
              "    animation:\n",
              "      spin 1s steps(1) infinite;\n",
              "  }\n",
              "\n",
              "  @keyframes spin {\n",
              "    0% {\n",
              "      border-color: transparent;\n",
              "      border-bottom-color: var(--fill-color);\n",
              "      border-left-color: var(--fill-color);\n",
              "    }\n",
              "    20% {\n",
              "      border-color: transparent;\n",
              "      border-left-color: var(--fill-color);\n",
              "      border-top-color: var(--fill-color);\n",
              "    }\n",
              "    30% {\n",
              "      border-color: transparent;\n",
              "      border-left-color: var(--fill-color);\n",
              "      border-top-color: var(--fill-color);\n",
              "      border-right-color: var(--fill-color);\n",
              "    }\n",
              "    40% {\n",
              "      border-color: transparent;\n",
              "      border-right-color: var(--fill-color);\n",
              "      border-top-color: var(--fill-color);\n",
              "    }\n",
              "    60% {\n",
              "      border-color: transparent;\n",
              "      border-right-color: var(--fill-color);\n",
              "    }\n",
              "    80% {\n",
              "      border-color: transparent;\n",
              "      border-right-color: var(--fill-color);\n",
              "      border-bottom-color: var(--fill-color);\n",
              "    }\n",
              "    90% {\n",
              "      border-color: transparent;\n",
              "      border-bottom-color: var(--fill-color);\n",
              "    }\n",
              "  }\n",
              "</style>\n",
              "\n",
              "      <script>\n",
              "        async function quickchart(key) {\n",
              "          const quickchartButtonEl =\n",
              "            document.querySelector('#' + key + ' button');\n",
              "          quickchartButtonEl.disabled = true;  // To prevent multiple clicks.\n",
              "          quickchartButtonEl.classList.add('colab-df-spinner');\n",
              "          try {\n",
              "            const charts = await google.colab.kernel.invokeFunction(\n",
              "                'suggestCharts', [key], {});\n",
              "          } catch (error) {\n",
              "            console.error('Error during call to suggestCharts:', error);\n",
              "          }\n",
              "          quickchartButtonEl.classList.remove('colab-df-spinner');\n",
              "          quickchartButtonEl.classList.add('colab-df-quickchart-complete');\n",
              "        }\n",
              "        (() => {\n",
              "          let quickchartButtonEl =\n",
              "            document.querySelector('#df-400b8a7a-c302-4982-9d33-4b25faa1716c button');\n",
              "          quickchartButtonEl.style.display =\n",
              "            google.colab.kernel.accessAllowed ? 'block' : 'none';\n",
              "        })();\n",
              "      </script>\n",
              "    </div>\n",
              "\n",
              "    </div>\n",
              "  </div>\n"
            ],
            "application/vnd.google.colaboratory.intrinsic+json": {
              "type": "dataframe",
              "variable_name": "lsc",
              "summary": "{\n  \"name\": \"lsc\",\n  \"rows\": 1000,\n  \"fields\": [\n    {\n      \"column\": \"date_secu\",\n      \"properties\": {\n        \"dtype\": \"object\",\n        \"num_unique_values\": 1,\n        \"samples\": [\n          \"13/05/2025\"\n        ],\n        \"semantic_type\": \"\",\n        \"description\": \"\"\n      }\n    },\n    {\n      \"column\": \"time_secu\",\n      \"properties\": {\n        \"dtype\": \"object\",\n        \"num_unique_values\": 1000,\n        \"samples\": [\n          \"08:08:41 a. m.\"\n        ],\n        \"semantic_type\": \"\",\n        \"description\": \"\"\n      }\n    },\n    {\n      \"column\": \"transaction_id\",\n      \"properties\": {\n        \"dtype\": \"string\",\n        \"num_unique_values\": 1000,\n        \"samples\": [\n          \"txn-0521\"\n        ],\n        \"semantic_type\": \"\",\n        \"description\": \"\"\n      }\n    },\n    {\n      \"column\": \"user_id\",\n      \"properties\": {\n        \"dtype\": \"category\",\n        \"num_unique_values\": 100,\n        \"samples\": [\n          \"user14\"\n        ],\n        \"semantic_type\": \"\",\n        \"description\": \"\"\n      }\n    },\n    {\n      \"column\": \"ip_address\",\n      \"properties\": {\n        \"dtype\": \"string\",\n        \"num_unique_values\": 1000,\n        \"samples\": [\n          \"104.187.151.20\"\n        ],\n        \"semantic_type\": \"\",\n        \"description\": \"\"\n      }\n    },\n    {\n      \"column\": \"resultado_validaci\\u00f3n\",\n      \"properties\": {\n        \"dtype\": \"category\",\n        \"num_unique_values\": 2,\n        \"samples\": [\n          \"Rechazada\"\n        ],\n        \"semantic_type\": \"\",\n        \"description\": \"\"\n      }\n    },\n    {\n      \"column\": \"motivo_fallo\",\n      \"properties\": {\n        \"dtype\": \"category\",\n        \"num_unique_values\": 3,\n        \"samples\": [\n          \"L\\u00edmite diario excedido\"\n        ],\n        \"semantic_type\": \"\",\n        \"description\": \"\"\n      }\n    },\n    {\n      \"column\": \"modulo\",\n      \"properties\": {\n        \"dtype\": \"category\",\n        \"num_unique_values\": 3,\n        \"samples\": [\n          \"mobile\"\n        ],\n        \"semantic_type\": \"\",\n        \"description\": \"\"\n      }\n    },\n    {\n      \"column\": \"verificaciones_realizadas\",\n      \"properties\": {\n        \"dtype\": \"category\",\n        \"num_unique_values\": 40,\n        \"samples\": [\n          \"token,frecuencia\"\n        ],\n        \"semantic_type\": \"\",\n        \"description\": \"\"\n      }\n    }\n  ]\n}"
            }
          },
          "metadata": {},
          "execution_count": 232
        }
      ]
    },
    {
      "cell_type": "markdown",
      "source": [
        "### Tabla de logs_MidFlow_ES"
      ],
      "metadata": {
        "id": "anvmSAB8r3Ou"
      }
    },
    {
      "cell_type": "code",
      "source": [
        "# Ruta al archivo CSV\n",
        "csv_path = \"/content/drive/MyDrive/Hackaton LogView 2025/logs_MidFlow_ESB.csv\"\n",
        "\n",
        "# Leer con pandas\n",
        "lmf = pd.read_csv(csv_path)\n",
        "\n",
        "# Mostrar las primeras filas\n",
        "lmf.head()"
      ],
      "metadata": {
        "colab": {
          "base_uri": "https://localhost:8080/",
          "height": 206
        },
        "id": "bfVlAzOGsA83",
        "outputId": "2b2ee500-1255-491a-8b62-5a8315ac8f30"
      },
      "execution_count": 233,
      "outputs": [
        {
          "output_type": "execute_result",
          "data": {
            "text/plain": [
              "     date_mid        time_mid nivel_log transaction_id direction   operation  \\\n",
              "0  13/05/2025  08:00:05 a. m.      INFO       txn-0000   request   consignar   \n",
              "1  13/05/2025  08:00:06 a. m.      INFO       txn-0000  response   consignar   \n",
              "2  13/05/2025  08:00:06 a. m.      INFO       txn-0001   request     retirar   \n",
              "3  13/05/2025  08:00:07 a. m.      INFO       txn-0001  response     retirar   \n",
              "4  13/05/2025  08:00:07 a. m.      INFO       txn-0002   request  transferir   \n",
              "\n",
              "   status_code  latency_ms user_id     ip_address  modulo  \n",
              "0          200         NaN  user65   198.81.20.19  mobile  \n",
              "1          200       272.0  user65   198.81.20.19  mobile  \n",
              "2          200         NaN  user94   92.100.49.61  mobile  \n",
              "3          200       143.0  user94   92.100.49.61  mobile  \n",
              "4          200         NaN  user93  35.10.214.169  mobile  "
            ],
            "text/html": [
              "\n",
              "  <div id=\"df-18585195-a2d0-43a6-94d1-9b3c21b84eac\" class=\"colab-df-container\">\n",
              "    <div>\n",
              "<style scoped>\n",
              "    .dataframe tbody tr th:only-of-type {\n",
              "        vertical-align: middle;\n",
              "    }\n",
              "\n",
              "    .dataframe tbody tr th {\n",
              "        vertical-align: top;\n",
              "    }\n",
              "\n",
              "    .dataframe thead th {\n",
              "        text-align: right;\n",
              "    }\n",
              "</style>\n",
              "<table border=\"1\" class=\"dataframe\">\n",
              "  <thead>\n",
              "    <tr style=\"text-align: right;\">\n",
              "      <th></th>\n",
              "      <th>date_mid</th>\n",
              "      <th>time_mid</th>\n",
              "      <th>nivel_log</th>\n",
              "      <th>transaction_id</th>\n",
              "      <th>direction</th>\n",
              "      <th>operation</th>\n",
              "      <th>status_code</th>\n",
              "      <th>latency_ms</th>\n",
              "      <th>user_id</th>\n",
              "      <th>ip_address</th>\n",
              "      <th>modulo</th>\n",
              "    </tr>\n",
              "  </thead>\n",
              "  <tbody>\n",
              "    <tr>\n",
              "      <th>0</th>\n",
              "      <td>13/05/2025</td>\n",
              "      <td>08:00:05 a. m.</td>\n",
              "      <td>INFO</td>\n",
              "      <td>txn-0000</td>\n",
              "      <td>request</td>\n",
              "      <td>consignar</td>\n",
              "      <td>200</td>\n",
              "      <td>NaN</td>\n",
              "      <td>user65</td>\n",
              "      <td>198.81.20.19</td>\n",
              "      <td>mobile</td>\n",
              "    </tr>\n",
              "    <tr>\n",
              "      <th>1</th>\n",
              "      <td>13/05/2025</td>\n",
              "      <td>08:00:06 a. m.</td>\n",
              "      <td>INFO</td>\n",
              "      <td>txn-0000</td>\n",
              "      <td>response</td>\n",
              "      <td>consignar</td>\n",
              "      <td>200</td>\n",
              "      <td>272.0</td>\n",
              "      <td>user65</td>\n",
              "      <td>198.81.20.19</td>\n",
              "      <td>mobile</td>\n",
              "    </tr>\n",
              "    <tr>\n",
              "      <th>2</th>\n",
              "      <td>13/05/2025</td>\n",
              "      <td>08:00:06 a. m.</td>\n",
              "      <td>INFO</td>\n",
              "      <td>txn-0001</td>\n",
              "      <td>request</td>\n",
              "      <td>retirar</td>\n",
              "      <td>200</td>\n",
              "      <td>NaN</td>\n",
              "      <td>user94</td>\n",
              "      <td>92.100.49.61</td>\n",
              "      <td>mobile</td>\n",
              "    </tr>\n",
              "    <tr>\n",
              "      <th>3</th>\n",
              "      <td>13/05/2025</td>\n",
              "      <td>08:00:07 a. m.</td>\n",
              "      <td>INFO</td>\n",
              "      <td>txn-0001</td>\n",
              "      <td>response</td>\n",
              "      <td>retirar</td>\n",
              "      <td>200</td>\n",
              "      <td>143.0</td>\n",
              "      <td>user94</td>\n",
              "      <td>92.100.49.61</td>\n",
              "      <td>mobile</td>\n",
              "    </tr>\n",
              "    <tr>\n",
              "      <th>4</th>\n",
              "      <td>13/05/2025</td>\n",
              "      <td>08:00:07 a. m.</td>\n",
              "      <td>INFO</td>\n",
              "      <td>txn-0002</td>\n",
              "      <td>request</td>\n",
              "      <td>transferir</td>\n",
              "      <td>200</td>\n",
              "      <td>NaN</td>\n",
              "      <td>user93</td>\n",
              "      <td>35.10.214.169</td>\n",
              "      <td>mobile</td>\n",
              "    </tr>\n",
              "  </tbody>\n",
              "</table>\n",
              "</div>\n",
              "    <div class=\"colab-df-buttons\">\n",
              "\n",
              "  <div class=\"colab-df-container\">\n",
              "    <button class=\"colab-df-convert\" onclick=\"convertToInteractive('df-18585195-a2d0-43a6-94d1-9b3c21b84eac')\"\n",
              "            title=\"Convert this dataframe to an interactive table.\"\n",
              "            style=\"display:none;\">\n",
              "\n",
              "  <svg xmlns=\"http://www.w3.org/2000/svg\" height=\"24px\" viewBox=\"0 -960 960 960\">\n",
              "    <path d=\"M120-120v-720h720v720H120Zm60-500h600v-160H180v160Zm220 220h160v-160H400v160Zm0 220h160v-160H400v160ZM180-400h160v-160H180v160Zm440 0h160v-160H620v160ZM180-180h160v-160H180v160Zm440 0h160v-160H620v160Z\"/>\n",
              "  </svg>\n",
              "    </button>\n",
              "\n",
              "  <style>\n",
              "    .colab-df-container {\n",
              "      display:flex;\n",
              "      gap: 12px;\n",
              "    }\n",
              "\n",
              "    .colab-df-convert {\n",
              "      background-color: #E8F0FE;\n",
              "      border: none;\n",
              "      border-radius: 50%;\n",
              "      cursor: pointer;\n",
              "      display: none;\n",
              "      fill: #1967D2;\n",
              "      height: 32px;\n",
              "      padding: 0 0 0 0;\n",
              "      width: 32px;\n",
              "    }\n",
              "\n",
              "    .colab-df-convert:hover {\n",
              "      background-color: #E2EBFA;\n",
              "      box-shadow: 0px 1px 2px rgba(60, 64, 67, 0.3), 0px 1px 3px 1px rgba(60, 64, 67, 0.15);\n",
              "      fill: #174EA6;\n",
              "    }\n",
              "\n",
              "    .colab-df-buttons div {\n",
              "      margin-bottom: 4px;\n",
              "    }\n",
              "\n",
              "    [theme=dark] .colab-df-convert {\n",
              "      background-color: #3B4455;\n",
              "      fill: #D2E3FC;\n",
              "    }\n",
              "\n",
              "    [theme=dark] .colab-df-convert:hover {\n",
              "      background-color: #434B5C;\n",
              "      box-shadow: 0px 1px 3px 1px rgba(0, 0, 0, 0.15);\n",
              "      filter: drop-shadow(0px 1px 2px rgba(0, 0, 0, 0.3));\n",
              "      fill: #FFFFFF;\n",
              "    }\n",
              "  </style>\n",
              "\n",
              "    <script>\n",
              "      const buttonEl =\n",
              "        document.querySelector('#df-18585195-a2d0-43a6-94d1-9b3c21b84eac button.colab-df-convert');\n",
              "      buttonEl.style.display =\n",
              "        google.colab.kernel.accessAllowed ? 'block' : 'none';\n",
              "\n",
              "      async function convertToInteractive(key) {\n",
              "        const element = document.querySelector('#df-18585195-a2d0-43a6-94d1-9b3c21b84eac');\n",
              "        const dataTable =\n",
              "          await google.colab.kernel.invokeFunction('convertToInteractive',\n",
              "                                                    [key], {});\n",
              "        if (!dataTable) return;\n",
              "\n",
              "        const docLinkHtml = 'Like what you see? Visit the ' +\n",
              "          '<a target=\"_blank\" href=https://colab.research.google.com/notebooks/data_table.ipynb>data table notebook</a>'\n",
              "          + ' to learn more about interactive tables.';\n",
              "        element.innerHTML = '';\n",
              "        dataTable['output_type'] = 'display_data';\n",
              "        await google.colab.output.renderOutput(dataTable, element);\n",
              "        const docLink = document.createElement('div');\n",
              "        docLink.innerHTML = docLinkHtml;\n",
              "        element.appendChild(docLink);\n",
              "      }\n",
              "    </script>\n",
              "  </div>\n",
              "\n",
              "\n",
              "    <div id=\"df-8b62ae66-010b-4915-a0a2-12ed501ed438\">\n",
              "      <button class=\"colab-df-quickchart\" onclick=\"quickchart('df-8b62ae66-010b-4915-a0a2-12ed501ed438')\"\n",
              "                title=\"Suggest charts\"\n",
              "                style=\"display:none;\">\n",
              "\n",
              "<svg xmlns=\"http://www.w3.org/2000/svg\" height=\"24px\"viewBox=\"0 0 24 24\"\n",
              "     width=\"24px\">\n",
              "    <g>\n",
              "        <path d=\"M19 3H5c-1.1 0-2 .9-2 2v14c0 1.1.9 2 2 2h14c1.1 0 2-.9 2-2V5c0-1.1-.9-2-2-2zM9 17H7v-7h2v7zm4 0h-2V7h2v10zm4 0h-2v-4h2v4z\"/>\n",
              "    </g>\n",
              "</svg>\n",
              "      </button>\n",
              "\n",
              "<style>\n",
              "  .colab-df-quickchart {\n",
              "      --bg-color: #E8F0FE;\n",
              "      --fill-color: #1967D2;\n",
              "      --hover-bg-color: #E2EBFA;\n",
              "      --hover-fill-color: #174EA6;\n",
              "      --disabled-fill-color: #AAA;\n",
              "      --disabled-bg-color: #DDD;\n",
              "  }\n",
              "\n",
              "  [theme=dark] .colab-df-quickchart {\n",
              "      --bg-color: #3B4455;\n",
              "      --fill-color: #D2E3FC;\n",
              "      --hover-bg-color: #434B5C;\n",
              "      --hover-fill-color: #FFFFFF;\n",
              "      --disabled-bg-color: #3B4455;\n",
              "      --disabled-fill-color: #666;\n",
              "  }\n",
              "\n",
              "  .colab-df-quickchart {\n",
              "    background-color: var(--bg-color);\n",
              "    border: none;\n",
              "    border-radius: 50%;\n",
              "    cursor: pointer;\n",
              "    display: none;\n",
              "    fill: var(--fill-color);\n",
              "    height: 32px;\n",
              "    padding: 0;\n",
              "    width: 32px;\n",
              "  }\n",
              "\n",
              "  .colab-df-quickchart:hover {\n",
              "    background-color: var(--hover-bg-color);\n",
              "    box-shadow: 0 1px 2px rgba(60, 64, 67, 0.3), 0 1px 3px 1px rgba(60, 64, 67, 0.15);\n",
              "    fill: var(--button-hover-fill-color);\n",
              "  }\n",
              "\n",
              "  .colab-df-quickchart-complete:disabled,\n",
              "  .colab-df-quickchart-complete:disabled:hover {\n",
              "    background-color: var(--disabled-bg-color);\n",
              "    fill: var(--disabled-fill-color);\n",
              "    box-shadow: none;\n",
              "  }\n",
              "\n",
              "  .colab-df-spinner {\n",
              "    border: 2px solid var(--fill-color);\n",
              "    border-color: transparent;\n",
              "    border-bottom-color: var(--fill-color);\n",
              "    animation:\n",
              "      spin 1s steps(1) infinite;\n",
              "  }\n",
              "\n",
              "  @keyframes spin {\n",
              "    0% {\n",
              "      border-color: transparent;\n",
              "      border-bottom-color: var(--fill-color);\n",
              "      border-left-color: var(--fill-color);\n",
              "    }\n",
              "    20% {\n",
              "      border-color: transparent;\n",
              "      border-left-color: var(--fill-color);\n",
              "      border-top-color: var(--fill-color);\n",
              "    }\n",
              "    30% {\n",
              "      border-color: transparent;\n",
              "      border-left-color: var(--fill-color);\n",
              "      border-top-color: var(--fill-color);\n",
              "      border-right-color: var(--fill-color);\n",
              "    }\n",
              "    40% {\n",
              "      border-color: transparent;\n",
              "      border-right-color: var(--fill-color);\n",
              "      border-top-color: var(--fill-color);\n",
              "    }\n",
              "    60% {\n",
              "      border-color: transparent;\n",
              "      border-right-color: var(--fill-color);\n",
              "    }\n",
              "    80% {\n",
              "      border-color: transparent;\n",
              "      border-right-color: var(--fill-color);\n",
              "      border-bottom-color: var(--fill-color);\n",
              "    }\n",
              "    90% {\n",
              "      border-color: transparent;\n",
              "      border-bottom-color: var(--fill-color);\n",
              "    }\n",
              "  }\n",
              "</style>\n",
              "\n",
              "      <script>\n",
              "        async function quickchart(key) {\n",
              "          const quickchartButtonEl =\n",
              "            document.querySelector('#' + key + ' button');\n",
              "          quickchartButtonEl.disabled = true;  // To prevent multiple clicks.\n",
              "          quickchartButtonEl.classList.add('colab-df-spinner');\n",
              "          try {\n",
              "            const charts = await google.colab.kernel.invokeFunction(\n",
              "                'suggestCharts', [key], {});\n",
              "          } catch (error) {\n",
              "            console.error('Error during call to suggestCharts:', error);\n",
              "          }\n",
              "          quickchartButtonEl.classList.remove('colab-df-spinner');\n",
              "          quickchartButtonEl.classList.add('colab-df-quickchart-complete');\n",
              "        }\n",
              "        (() => {\n",
              "          let quickchartButtonEl =\n",
              "            document.querySelector('#df-8b62ae66-010b-4915-a0a2-12ed501ed438 button');\n",
              "          quickchartButtonEl.style.display =\n",
              "            google.colab.kernel.accessAllowed ? 'block' : 'none';\n",
              "        })();\n",
              "      </script>\n",
              "    </div>\n",
              "\n",
              "    </div>\n",
              "  </div>\n"
            ],
            "application/vnd.google.colaboratory.intrinsic+json": {
              "type": "dataframe",
              "variable_name": "lmf",
              "summary": "{\n  \"name\": \"lmf\",\n  \"rows\": 1788,\n  \"fields\": [\n    {\n      \"column\": \"date_mid\",\n      \"properties\": {\n        \"dtype\": \"object\",\n        \"num_unique_values\": 1,\n        \"samples\": [\n          \"13/05/2025\"\n        ],\n        \"semantic_type\": \"\",\n        \"description\": \"\"\n      }\n    },\n    {\n      \"column\": \"time_mid\",\n      \"properties\": {\n        \"dtype\": \"object\",\n        \"num_unique_values\": 988,\n        \"samples\": [\n          \"08:03:41 a. m.\"\n        ],\n        \"semantic_type\": \"\",\n        \"description\": \"\"\n      }\n    },\n    {\n      \"column\": \"nivel_log\",\n      \"properties\": {\n        \"dtype\": \"category\",\n        \"num_unique_values\": 2,\n        \"samples\": [\n          \"ERROR\"\n        ],\n        \"semantic_type\": \"\",\n        \"description\": \"\"\n      }\n    },\n    {\n      \"column\": \"transaction_id\",\n      \"properties\": {\n        \"dtype\": \"string\",\n        \"num_unique_values\": 915,\n        \"samples\": [\n          \"txn-0413\"\n        ],\n        \"semantic_type\": \"\",\n        \"description\": \"\"\n      }\n    },\n    {\n      \"column\": \"direction\",\n      \"properties\": {\n        \"dtype\": \"category\",\n        \"num_unique_values\": 2,\n        \"samples\": [\n          \"response\"\n        ],\n        \"semantic_type\": \"\",\n        \"description\": \"\"\n      }\n    },\n    {\n      \"column\": \"operation\",\n      \"properties\": {\n        \"dtype\": \"category\",\n        \"num_unique_values\": 3,\n        \"samples\": [\n          \"consignar\"\n        ],\n        \"semantic_type\": \"\",\n        \"description\": \"\"\n      }\n    },\n    {\n      \"column\": \"status_code\",\n      \"properties\": {\n        \"dtype\": \"number\",\n        \"std\": 45,\n        \"min\": 200,\n        \"max\": 500,\n        \"num_unique_values\": 2,\n        \"samples\": [\n          500\n        ],\n        \"semantic_type\": \"\",\n        \"description\": \"\"\n      }\n    },\n    {\n      \"column\": \"latency_ms\",\n      \"properties\": {\n        \"dtype\": \"number\",\n        \"std\": 73.67858552470402,\n        \"min\": 50.0,\n        \"max\": 300.0,\n        \"num_unique_values\": 245,\n        \"samples\": [\n          89.0\n        ],\n        \"semantic_type\": \"\",\n        \"description\": \"\"\n      }\n    },\n    {\n      \"column\": \"user_id\",\n      \"properties\": {\n        \"dtype\": \"category\",\n        \"num_unique_values\": 100,\n        \"samples\": [\n          \"user5\"\n        ],\n        \"semantic_type\": \"\",\n        \"description\": \"\"\n      }\n    },\n    {\n      \"column\": \"ip_address\",\n      \"properties\": {\n        \"dtype\": \"string\",\n        \"num_unique_values\": 915,\n        \"samples\": [\n          \"164.183.239.247\"\n        ],\n        \"semantic_type\": \"\",\n        \"description\": \"\"\n      }\n    },\n    {\n      \"column\": \"modulo\",\n      \"properties\": {\n        \"dtype\": \"category\",\n        \"num_unique_values\": 3,\n        \"samples\": [\n          \"mobile\"\n        ],\n        \"semantic_type\": \"\",\n        \"description\": \"\"\n      }\n    }\n  ]\n}"
            }
          },
          "metadata": {},
          "execution_count": 233
        }
      ]
    },
    {
      "cell_type": "markdown",
      "source": [
        "## 1.2. Unificar por transaction_id, manteniendo trazabilidad por timestamp.\n",
        "Esta tabla fue previamente unificada y estandarizada usando el software de Excel"
      ],
      "metadata": {
        "id": "gHq38vFxmZPl"
      }
    },
    {
      "cell_type": "code",
      "source": [
        "# Ruta al archivo CSV\n",
        "csv_path = \"/content/drive/MyDrive/Hackaton LogView 2025/Unificado_Limpio.csv\"\n",
        "\n",
        "# Limpieza de nombres\n",
        "unl = pd.read_csv(csv_path, encoding='latin-1')\n",
        "unl.columns = unl.columns.str.replace(r'^Tabla4\\.', '', regex=True)\n",
        "unl.columns = unl.columns.str.replace(r'^Tabla6\\.', '', regex=True)\n",
        "\n",
        "# Mostrar las primeras filas\n",
        "unl.head()\n"
      ],
      "metadata": {
        "colab": {
          "base_uri": "https://localhost:8080/",
          "height": 343
        },
        "outputId": "c34e27ef-9b9f-48b8-8471-4d7a009628b0",
        "id": "2ZY-QgJNTGWv"
      },
      "execution_count": 236,
      "outputs": [
        {
          "output_type": "execute_result",
          "data": {
            "text/plain": [
              "    date_secu       time_secu transaction_id user_id     ip_address  \\\n",
              "0  13/05/2025  08:00:00 a. m.       txn-0000  user65   198.81.20.19   \n",
              "1  13/05/2025  08:00:00 a. m.       txn-0000  user65   198.81.20.19   \n",
              "2  13/05/2025  08:00:01 a. m.       txn-0001  user94   92.100.49.61   \n",
              "3  13/05/2025  08:00:01 a. m.       txn-0001  user94   92.100.49.61   \n",
              "4  13/05/2025  08:00:02 a. m.       txn-0002  user93  35.10.214.169   \n",
              "\n",
              "  resultado_validación motivo_fallo  modulo         verificaciones_realizadas  \\\n",
              "0             Aprobada          NaN  mobile                        frecuencia   \n",
              "1             Aprobada          NaN  mobile                        frecuencia   \n",
              "2             Aprobada          NaN  mobile  token,frecuencia,geolocalización   \n",
              "3             Aprobada          NaN  mobile  token,frecuencia,geolocalización   \n",
              "4             Aprobada          NaN  mobile   geolocalización,token,blacklist   \n",
              "\n",
              "     date_mid  ... nivel_log direction   operation status_code  latency_ms  \\\n",
              "0  13/05/2025  ...      INFO   request   consignar       200.0         NaN   \n",
              "1  13/05/2025  ...      INFO  response   consignar       200.0       272.0   \n",
              "2  13/05/2025  ...      INFO   request     retirar       200.0         NaN   \n",
              "3  13/05/2025  ...      INFO  response     retirar       200.0       143.0   \n",
              "4  13/05/2025  ...      INFO   request  transferir       200.0         NaN   \n",
              "\n",
              "    date_core       time_core   cuenta      estado       valor  \n",
              "0  13/05/2025  08:00:10 a. m.  ahorros  Completada   429947.36  \n",
              "1  13/05/2025  08:00:10 a. m.  ahorros  Completada   429947.36  \n",
              "2  13/05/2025  08:00:11 a. m.  ahorros  Completada  1466275.85  \n",
              "3  13/05/2025  08:00:11 a. m.  ahorros  Completada  1466275.85  \n",
              "4  13/05/2025  08:00:12 a. m.  ahorros  Completada  3764977.62  \n",
              "\n",
              "[5 rows x 21 columns]"
            ],
            "text/html": [
              "\n",
              "  <div id=\"df-a3715884-c02e-42cc-9927-1e205fb8c9f6\" class=\"colab-df-container\">\n",
              "    <div>\n",
              "<style scoped>\n",
              "    .dataframe tbody tr th:only-of-type {\n",
              "        vertical-align: middle;\n",
              "    }\n",
              "\n",
              "    .dataframe tbody tr th {\n",
              "        vertical-align: top;\n",
              "    }\n",
              "\n",
              "    .dataframe thead th {\n",
              "        text-align: right;\n",
              "    }\n",
              "</style>\n",
              "<table border=\"1\" class=\"dataframe\">\n",
              "  <thead>\n",
              "    <tr style=\"text-align: right;\">\n",
              "      <th></th>\n",
              "      <th>date_secu</th>\n",
              "      <th>time_secu</th>\n",
              "      <th>transaction_id</th>\n",
              "      <th>user_id</th>\n",
              "      <th>ip_address</th>\n",
              "      <th>resultado_validación</th>\n",
              "      <th>motivo_fallo</th>\n",
              "      <th>modulo</th>\n",
              "      <th>verificaciones_realizadas</th>\n",
              "      <th>date_mid</th>\n",
              "      <th>...</th>\n",
              "      <th>nivel_log</th>\n",
              "      <th>direction</th>\n",
              "      <th>operation</th>\n",
              "      <th>status_code</th>\n",
              "      <th>latency_ms</th>\n",
              "      <th>date_core</th>\n",
              "      <th>time_core</th>\n",
              "      <th>cuenta</th>\n",
              "      <th>estado</th>\n",
              "      <th>valor</th>\n",
              "    </tr>\n",
              "  </thead>\n",
              "  <tbody>\n",
              "    <tr>\n",
              "      <th>0</th>\n",
              "      <td>13/05/2025</td>\n",
              "      <td>08:00:00 a. m.</td>\n",
              "      <td>txn-0000</td>\n",
              "      <td>user65</td>\n",
              "      <td>198.81.20.19</td>\n",
              "      <td>Aprobada</td>\n",
              "      <td>NaN</td>\n",
              "      <td>mobile</td>\n",
              "      <td>frecuencia</td>\n",
              "      <td>13/05/2025</td>\n",
              "      <td>...</td>\n",
              "      <td>INFO</td>\n",
              "      <td>request</td>\n",
              "      <td>consignar</td>\n",
              "      <td>200.0</td>\n",
              "      <td>NaN</td>\n",
              "      <td>13/05/2025</td>\n",
              "      <td>08:00:10 a. m.</td>\n",
              "      <td>ahorros</td>\n",
              "      <td>Completada</td>\n",
              "      <td>429947.36</td>\n",
              "    </tr>\n",
              "    <tr>\n",
              "      <th>1</th>\n",
              "      <td>13/05/2025</td>\n",
              "      <td>08:00:00 a. m.</td>\n",
              "      <td>txn-0000</td>\n",
              "      <td>user65</td>\n",
              "      <td>198.81.20.19</td>\n",
              "      <td>Aprobada</td>\n",
              "      <td>NaN</td>\n",
              "      <td>mobile</td>\n",
              "      <td>frecuencia</td>\n",
              "      <td>13/05/2025</td>\n",
              "      <td>...</td>\n",
              "      <td>INFO</td>\n",
              "      <td>response</td>\n",
              "      <td>consignar</td>\n",
              "      <td>200.0</td>\n",
              "      <td>272.0</td>\n",
              "      <td>13/05/2025</td>\n",
              "      <td>08:00:10 a. m.</td>\n",
              "      <td>ahorros</td>\n",
              "      <td>Completada</td>\n",
              "      <td>429947.36</td>\n",
              "    </tr>\n",
              "    <tr>\n",
              "      <th>2</th>\n",
              "      <td>13/05/2025</td>\n",
              "      <td>08:00:01 a. m.</td>\n",
              "      <td>txn-0001</td>\n",
              "      <td>user94</td>\n",
              "      <td>92.100.49.61</td>\n",
              "      <td>Aprobada</td>\n",
              "      <td>NaN</td>\n",
              "      <td>mobile</td>\n",
              "      <td>token,frecuencia,geolocalización</td>\n",
              "      <td>13/05/2025</td>\n",
              "      <td>...</td>\n",
              "      <td>INFO</td>\n",
              "      <td>request</td>\n",
              "      <td>retirar</td>\n",
              "      <td>200.0</td>\n",
              "      <td>NaN</td>\n",
              "      <td>13/05/2025</td>\n",
              "      <td>08:00:11 a. m.</td>\n",
              "      <td>ahorros</td>\n",
              "      <td>Completada</td>\n",
              "      <td>1466275.85</td>\n",
              "    </tr>\n",
              "    <tr>\n",
              "      <th>3</th>\n",
              "      <td>13/05/2025</td>\n",
              "      <td>08:00:01 a. m.</td>\n",
              "      <td>txn-0001</td>\n",
              "      <td>user94</td>\n",
              "      <td>92.100.49.61</td>\n",
              "      <td>Aprobada</td>\n",
              "      <td>NaN</td>\n",
              "      <td>mobile</td>\n",
              "      <td>token,frecuencia,geolocalización</td>\n",
              "      <td>13/05/2025</td>\n",
              "      <td>...</td>\n",
              "      <td>INFO</td>\n",
              "      <td>response</td>\n",
              "      <td>retirar</td>\n",
              "      <td>200.0</td>\n",
              "      <td>143.0</td>\n",
              "      <td>13/05/2025</td>\n",
              "      <td>08:00:11 a. m.</td>\n",
              "      <td>ahorros</td>\n",
              "      <td>Completada</td>\n",
              "      <td>1466275.85</td>\n",
              "    </tr>\n",
              "    <tr>\n",
              "      <th>4</th>\n",
              "      <td>13/05/2025</td>\n",
              "      <td>08:00:02 a. m.</td>\n",
              "      <td>txn-0002</td>\n",
              "      <td>user93</td>\n",
              "      <td>35.10.214.169</td>\n",
              "      <td>Aprobada</td>\n",
              "      <td>NaN</td>\n",
              "      <td>mobile</td>\n",
              "      <td>geolocalización,token,blacklist</td>\n",
              "      <td>13/05/2025</td>\n",
              "      <td>...</td>\n",
              "      <td>INFO</td>\n",
              "      <td>request</td>\n",
              "      <td>transferir</td>\n",
              "      <td>200.0</td>\n",
              "      <td>NaN</td>\n",
              "      <td>13/05/2025</td>\n",
              "      <td>08:00:12 a. m.</td>\n",
              "      <td>ahorros</td>\n",
              "      <td>Completada</td>\n",
              "      <td>3764977.62</td>\n",
              "    </tr>\n",
              "  </tbody>\n",
              "</table>\n",
              "<p>5 rows × 21 columns</p>\n",
              "</div>\n",
              "    <div class=\"colab-df-buttons\">\n",
              "\n",
              "  <div class=\"colab-df-container\">\n",
              "    <button class=\"colab-df-convert\" onclick=\"convertToInteractive('df-a3715884-c02e-42cc-9927-1e205fb8c9f6')\"\n",
              "            title=\"Convert this dataframe to an interactive table.\"\n",
              "            style=\"display:none;\">\n",
              "\n",
              "  <svg xmlns=\"http://www.w3.org/2000/svg\" height=\"24px\" viewBox=\"0 -960 960 960\">\n",
              "    <path d=\"M120-120v-720h720v720H120Zm60-500h600v-160H180v160Zm220 220h160v-160H400v160Zm0 220h160v-160H400v160ZM180-400h160v-160H180v160Zm440 0h160v-160H620v160ZM180-180h160v-160H180v160Zm440 0h160v-160H620v160Z\"/>\n",
              "  </svg>\n",
              "    </button>\n",
              "\n",
              "  <style>\n",
              "    .colab-df-container {\n",
              "      display:flex;\n",
              "      gap: 12px;\n",
              "    }\n",
              "\n",
              "    .colab-df-convert {\n",
              "      background-color: #E8F0FE;\n",
              "      border: none;\n",
              "      border-radius: 50%;\n",
              "      cursor: pointer;\n",
              "      display: none;\n",
              "      fill: #1967D2;\n",
              "      height: 32px;\n",
              "      padding: 0 0 0 0;\n",
              "      width: 32px;\n",
              "    }\n",
              "\n",
              "    .colab-df-convert:hover {\n",
              "      background-color: #E2EBFA;\n",
              "      box-shadow: 0px 1px 2px rgba(60, 64, 67, 0.3), 0px 1px 3px 1px rgba(60, 64, 67, 0.15);\n",
              "      fill: #174EA6;\n",
              "    }\n",
              "\n",
              "    .colab-df-buttons div {\n",
              "      margin-bottom: 4px;\n",
              "    }\n",
              "\n",
              "    [theme=dark] .colab-df-convert {\n",
              "      background-color: #3B4455;\n",
              "      fill: #D2E3FC;\n",
              "    }\n",
              "\n",
              "    [theme=dark] .colab-df-convert:hover {\n",
              "      background-color: #434B5C;\n",
              "      box-shadow: 0px 1px 3px 1px rgba(0, 0, 0, 0.15);\n",
              "      filter: drop-shadow(0px 1px 2px rgba(0, 0, 0, 0.3));\n",
              "      fill: #FFFFFF;\n",
              "    }\n",
              "  </style>\n",
              "\n",
              "    <script>\n",
              "      const buttonEl =\n",
              "        document.querySelector('#df-a3715884-c02e-42cc-9927-1e205fb8c9f6 button.colab-df-convert');\n",
              "      buttonEl.style.display =\n",
              "        google.colab.kernel.accessAllowed ? 'block' : 'none';\n",
              "\n",
              "      async function convertToInteractive(key) {\n",
              "        const element = document.querySelector('#df-a3715884-c02e-42cc-9927-1e205fb8c9f6');\n",
              "        const dataTable =\n",
              "          await google.colab.kernel.invokeFunction('convertToInteractive',\n",
              "                                                    [key], {});\n",
              "        if (!dataTable) return;\n",
              "\n",
              "        const docLinkHtml = 'Like what you see? Visit the ' +\n",
              "          '<a target=\"_blank\" href=https://colab.research.google.com/notebooks/data_table.ipynb>data table notebook</a>'\n",
              "          + ' to learn more about interactive tables.';\n",
              "        element.innerHTML = '';\n",
              "        dataTable['output_type'] = 'display_data';\n",
              "        await google.colab.output.renderOutput(dataTable, element);\n",
              "        const docLink = document.createElement('div');\n",
              "        docLink.innerHTML = docLinkHtml;\n",
              "        element.appendChild(docLink);\n",
              "      }\n",
              "    </script>\n",
              "  </div>\n",
              "\n",
              "\n",
              "    <div id=\"df-64b90ef5-3b7a-4137-85f0-09d4935893b0\">\n",
              "      <button class=\"colab-df-quickchart\" onclick=\"quickchart('df-64b90ef5-3b7a-4137-85f0-09d4935893b0')\"\n",
              "                title=\"Suggest charts\"\n",
              "                style=\"display:none;\">\n",
              "\n",
              "<svg xmlns=\"http://www.w3.org/2000/svg\" height=\"24px\"viewBox=\"0 0 24 24\"\n",
              "     width=\"24px\">\n",
              "    <g>\n",
              "        <path d=\"M19 3H5c-1.1 0-2 .9-2 2v14c0 1.1.9 2 2 2h14c1.1 0 2-.9 2-2V5c0-1.1-.9-2-2-2zM9 17H7v-7h2v7zm4 0h-2V7h2v10zm4 0h-2v-4h2v4z\"/>\n",
              "    </g>\n",
              "</svg>\n",
              "      </button>\n",
              "\n",
              "<style>\n",
              "  .colab-df-quickchart {\n",
              "      --bg-color: #E8F0FE;\n",
              "      --fill-color: #1967D2;\n",
              "      --hover-bg-color: #E2EBFA;\n",
              "      --hover-fill-color: #174EA6;\n",
              "      --disabled-fill-color: #AAA;\n",
              "      --disabled-bg-color: #DDD;\n",
              "  }\n",
              "\n",
              "  [theme=dark] .colab-df-quickchart {\n",
              "      --bg-color: #3B4455;\n",
              "      --fill-color: #D2E3FC;\n",
              "      --hover-bg-color: #434B5C;\n",
              "      --hover-fill-color: #FFFFFF;\n",
              "      --disabled-bg-color: #3B4455;\n",
              "      --disabled-fill-color: #666;\n",
              "  }\n",
              "\n",
              "  .colab-df-quickchart {\n",
              "    background-color: var(--bg-color);\n",
              "    border: none;\n",
              "    border-radius: 50%;\n",
              "    cursor: pointer;\n",
              "    display: none;\n",
              "    fill: var(--fill-color);\n",
              "    height: 32px;\n",
              "    padding: 0;\n",
              "    width: 32px;\n",
              "  }\n",
              "\n",
              "  .colab-df-quickchart:hover {\n",
              "    background-color: var(--hover-bg-color);\n",
              "    box-shadow: 0 1px 2px rgba(60, 64, 67, 0.3), 0 1px 3px 1px rgba(60, 64, 67, 0.15);\n",
              "    fill: var(--button-hover-fill-color);\n",
              "  }\n",
              "\n",
              "  .colab-df-quickchart-complete:disabled,\n",
              "  .colab-df-quickchart-complete:disabled:hover {\n",
              "    background-color: var(--disabled-bg-color);\n",
              "    fill: var(--disabled-fill-color);\n",
              "    box-shadow: none;\n",
              "  }\n",
              "\n",
              "  .colab-df-spinner {\n",
              "    border: 2px solid var(--fill-color);\n",
              "    border-color: transparent;\n",
              "    border-bottom-color: var(--fill-color);\n",
              "    animation:\n",
              "      spin 1s steps(1) infinite;\n",
              "  }\n",
              "\n",
              "  @keyframes spin {\n",
              "    0% {\n",
              "      border-color: transparent;\n",
              "      border-bottom-color: var(--fill-color);\n",
              "      border-left-color: var(--fill-color);\n",
              "    }\n",
              "    20% {\n",
              "      border-color: transparent;\n",
              "      border-left-color: var(--fill-color);\n",
              "      border-top-color: var(--fill-color);\n",
              "    }\n",
              "    30% {\n",
              "      border-color: transparent;\n",
              "      border-left-color: var(--fill-color);\n",
              "      border-top-color: var(--fill-color);\n",
              "      border-right-color: var(--fill-color);\n",
              "    }\n",
              "    40% {\n",
              "      border-color: transparent;\n",
              "      border-right-color: var(--fill-color);\n",
              "      border-top-color: var(--fill-color);\n",
              "    }\n",
              "    60% {\n",
              "      border-color: transparent;\n",
              "      border-right-color: var(--fill-color);\n",
              "    }\n",
              "    80% {\n",
              "      border-color: transparent;\n",
              "      border-right-color: var(--fill-color);\n",
              "      border-bottom-color: var(--fill-color);\n",
              "    }\n",
              "    90% {\n",
              "      border-color: transparent;\n",
              "      border-bottom-color: var(--fill-color);\n",
              "    }\n",
              "  }\n",
              "</style>\n",
              "\n",
              "      <script>\n",
              "        async function quickchart(key) {\n",
              "          const quickchartButtonEl =\n",
              "            document.querySelector('#' + key + ' button');\n",
              "          quickchartButtonEl.disabled = true;  // To prevent multiple clicks.\n",
              "          quickchartButtonEl.classList.add('colab-df-spinner');\n",
              "          try {\n",
              "            const charts = await google.colab.kernel.invokeFunction(\n",
              "                'suggestCharts', [key], {});\n",
              "          } catch (error) {\n",
              "            console.error('Error during call to suggestCharts:', error);\n",
              "          }\n",
              "          quickchartButtonEl.classList.remove('colab-df-spinner');\n",
              "          quickchartButtonEl.classList.add('colab-df-quickchart-complete');\n",
              "        }\n",
              "        (() => {\n",
              "          let quickchartButtonEl =\n",
              "            document.querySelector('#df-64b90ef5-3b7a-4137-85f0-09d4935893b0 button');\n",
              "          quickchartButtonEl.style.display =\n",
              "            google.colab.kernel.accessAllowed ? 'block' : 'none';\n",
              "        })();\n",
              "      </script>\n",
              "    </div>\n",
              "\n",
              "    </div>\n",
              "  </div>\n"
            ],
            "application/vnd.google.colaboratory.intrinsic+json": {
              "type": "dataframe",
              "variable_name": "unl"
            }
          },
          "metadata": {},
          "execution_count": 236
        }
      ]
    },
    {
      "cell_type": "markdown",
      "source": [
        "## 1.3. Estandarizar campos como estados, usuarios, IPs, etc."
      ],
      "metadata": {
        "id": "iH4P3qpUnejm"
      }
    },
    {
      "cell_type": "markdown",
      "source": [
        "# Módulo 2: Visualización\n"
      ],
      "metadata": {
        "id": "lJ_wOLyZnt8l"
      }
    },
    {
      "cell_type": "markdown",
      "source": [
        "## 2.1. Mapa de flujo de cada transacción por sistema."
      ],
      "metadata": {
        "id": "3zmUlIGYVdcP"
      }
    },
    {
      "cell_type": "markdown",
      "source": [
        "Se realiza un programa el cuál lee el archivo .csv ya limpio y unificado para crear diagramas dirigidos, es decir, los mapas de flujo; y Si la transacción pasó por SecuCheck, se crea un nodo con el resultado de validación y el motivo del fallo (si fue rechazada). Si existen datos en los demás módulos, sistemas se dibujan flechas que conectan los nodos hasta donde haya llegado la transacción."
      ],
      "metadata": {
        "id": "Rx_2GmDxJ2FL"
      }
    },
    {
      "cell_type": "code",
      "source": [
        "import pandas as pd\n",
        "import graphviz\n",
        "import os\n",
        "\n",
        "# Cargar el archivo\n",
        "#df = pd.read_csv(\"Unificado_Limpio.csv\", encoding='latin1')\n",
        "\n",
        "# Crear carpeta para los diagramas\n",
        "os.makedirs(\"diagramas_transacciones\", exist_ok=True)\n",
        "\n",
        "# Obtener todos los transaction_id únicos\n",
        "all_ids = unl['transaction_id'].unique()\n",
        "\n",
        "for tx_id in all_ids:\n",
        "    row = unl[unl['transaction_id'] == tx_id].iloc[0]\n",
        "    dot = graphviz.Digraph(comment=f\"Transacción {tx_id}\")\n",
        "\n",
        "    # Estilo global del gráfico (corregido)\n",
        "    dot.attr('graph',\n",
        "             label=f'Transacción {tx_id}',\n",
        "             labelloc='t',\n",
        "             fontsize='20',\n",
        "             fontname='Arial',\n",
        "             fontcolor='#0960AE',\n",
        "             bgcolor='white')\n",
        "\n",
        "    # Estilo de los nodos\n",
        "    dot.attr('node', fontname='Arial', fontcolor='white', style='filled,rounded', shape='box')\n",
        "\n",
        "    # Nodo: SecuCheck\n",
        "    if pd.notna(row['resultado_validación']):\n",
        "        text = f\"SecuCheck\\nResultado: {row['resultado_validación']}\"\n",
        "        if row['resultado_validación'] == 'Rechazada' and pd.notna(row['motivo_fallo']):\n",
        "            text += f\"\\nMotivo: {row['motivo_fallo']}\"\n",
        "        dot.node('SecuCheck', text, fillcolor='#64A6E3')\n",
        "\n",
        "    # Nodo: ESB\n",
        "    if pd.notna(row['operation']):\n",
        "        text = \"ESB\"\n",
        "        if pd.notna(row['operation']):\n",
        "            text += f\"\\nOp: {row['operation']}\"\n",
        "        if pd.notna(row['status_code']):\n",
        "            text += f\"\\nStatus: {int(row['status_code'])}\"\n",
        "        if pd.notna(row['latency_ms']):\n",
        "            text += f\"\\nLatencia: {int(row['latency_ms'])} ms\"\n",
        "        dot.node('ESB', text, fillcolor='#3E8FD8')\n",
        "\n",
        "    # Nodo: CoreBank\n",
        "    if pd.notna(row['estado']):\n",
        "        text = f\"CoreBank\\nCuenta: {row['cuenta']}\\nEstado: {row['estado']}\\nValor: {row['valor']}\"\n",
        "        dot.node('CoreBank', text, fillcolor='#0960AE')\n",
        "\n",
        "    # Conexiones con flechas color azul claro\n",
        "    edge_style = {'color': '#B8D1E7'}\n",
        "    if pd.notna(row['resultado_validación']) and pd.notna(row['operation']):\n",
        "        dot.edge('SecuCheck', 'ESB', **edge_style)\n",
        "    if pd.notna(row['operation']) and pd.notna(row['estado']):\n",
        "        dot.edge('ESB', 'CoreBank', **edge_style)\n",
        "\n",
        "    # Guardar diagrama\n",
        "    output_path = os.path.join(\"diagramas_transacciones\", f\"transaccion_{tx_id}\")\n",
        "    dot.render(output_path, format='png', cleanup=True)\n",
        "\n",
        "print(\"Diagramas generados exitosamente con estilo actualizado.\")\n"
      ],
      "metadata": {
        "id": "IjZXrC6I69hv",
        "colab": {
          "base_uri": "https://localhost:8080/",
          "height": 356
        },
        "outputId": "634261f0-21ce-453e-e0c5-6404bc0137b2"
      },
      "execution_count": 237,
      "outputs": [
        {
          "output_type": "error",
          "ename": "KeyboardInterrupt",
          "evalue": "",
          "traceback": [
            "\u001b[0;31m---------------------------------------------------------------------------\u001b[0m",
            "\u001b[0;31mKeyboardInterrupt\u001b[0m                         Traceback (most recent call last)",
            "\u001b[0;32m<ipython-input-237-f0328ff64d2c>\u001b[0m in \u001b[0;36m<cell line: 0>\u001b[0;34m()\u001b[0m\n\u001b[1;32m     60\u001b[0m     \u001b[0;31m# Guardar diagrama\u001b[0m\u001b[0;34m\u001b[0m\u001b[0;34m\u001b[0m\u001b[0m\n\u001b[1;32m     61\u001b[0m     \u001b[0moutput_path\u001b[0m \u001b[0;34m=\u001b[0m \u001b[0mos\u001b[0m\u001b[0;34m.\u001b[0m\u001b[0mpath\u001b[0m\u001b[0;34m.\u001b[0m\u001b[0mjoin\u001b[0m\u001b[0;34m(\u001b[0m\u001b[0;34m\"diagramas_transacciones\"\u001b[0m\u001b[0;34m,\u001b[0m \u001b[0;34mf\"transaccion_{tx_id}\"\u001b[0m\u001b[0;34m)\u001b[0m\u001b[0;34m\u001b[0m\u001b[0;34m\u001b[0m\u001b[0m\n\u001b[0;32m---> 62\u001b[0;31m     \u001b[0mdot\u001b[0m\u001b[0;34m.\u001b[0m\u001b[0mrender\u001b[0m\u001b[0;34m(\u001b[0m\u001b[0moutput_path\u001b[0m\u001b[0;34m,\u001b[0m \u001b[0mformat\u001b[0m\u001b[0;34m=\u001b[0m\u001b[0;34m'png'\u001b[0m\u001b[0;34m,\u001b[0m \u001b[0mcleanup\u001b[0m\u001b[0;34m=\u001b[0m\u001b[0;32mTrue\u001b[0m\u001b[0;34m)\u001b[0m\u001b[0;34m\u001b[0m\u001b[0;34m\u001b[0m\u001b[0m\n\u001b[0m\u001b[1;32m     63\u001b[0m \u001b[0;34m\u001b[0m\u001b[0m\n\u001b[1;32m     64\u001b[0m \u001b[0mprint\u001b[0m\u001b[0;34m(\u001b[0m\u001b[0;34m\"Diagramas generados exitosamente con estilo actualizado.\"\u001b[0m\u001b[0;34m)\u001b[0m\u001b[0;34m\u001b[0m\u001b[0;34m\u001b[0m\u001b[0m\n",
            "\u001b[0;32m/usr/local/lib/python3.11/dist-packages/graphviz/_tools.py\u001b[0m in \u001b[0;36mwrapper\u001b[0;34m(*args, **kwargs)\u001b[0m\n\u001b[1;32m    169\u001b[0m                               category=category)\n\u001b[1;32m    170\u001b[0m \u001b[0;34m\u001b[0m\u001b[0m\n\u001b[0;32m--> 171\u001b[0;31m             \u001b[0;32mreturn\u001b[0m \u001b[0mfunc\u001b[0m\u001b[0;34m(\u001b[0m\u001b[0;34m*\u001b[0m\u001b[0margs\u001b[0m\u001b[0;34m,\u001b[0m \u001b[0;34m**\u001b[0m\u001b[0mkwargs\u001b[0m\u001b[0;34m)\u001b[0m\u001b[0;34m\u001b[0m\u001b[0;34m\u001b[0m\u001b[0m\n\u001b[0m\u001b[1;32m    172\u001b[0m \u001b[0;34m\u001b[0m\u001b[0m\n\u001b[1;32m    173\u001b[0m         \u001b[0;32mreturn\u001b[0m \u001b[0mwrapper\u001b[0m\u001b[0;34m\u001b[0m\u001b[0;34m\u001b[0m\u001b[0m\n",
            "\u001b[0;32m/usr/local/lib/python3.11/dist-packages/graphviz/rendering.py\u001b[0m in \u001b[0;36mrender\u001b[0;34m(self, filename, directory, view, cleanup, format, renderer, formatter, neato_no_op, quiet, quiet_view, outfile, engine, raise_if_result_exists, overwrite_source)\u001b[0m\n\u001b[1;32m    120\u001b[0m         \u001b[0margs\u001b[0m\u001b[0;34m.\u001b[0m\u001b[0mappend\u001b[0m\u001b[0;34m(\u001b[0m\u001b[0mfilepath\u001b[0m\u001b[0;34m)\u001b[0m\u001b[0;34m\u001b[0m\u001b[0;34m\u001b[0m\u001b[0m\n\u001b[1;32m    121\u001b[0m \u001b[0;34m\u001b[0m\u001b[0m\n\u001b[0;32m--> 122\u001b[0;31m         \u001b[0mrendered\u001b[0m \u001b[0;34m=\u001b[0m \u001b[0mself\u001b[0m\u001b[0;34m.\u001b[0m\u001b[0m_render\u001b[0m\u001b[0;34m(\u001b[0m\u001b[0;34m*\u001b[0m\u001b[0margs\u001b[0m\u001b[0;34m,\u001b[0m \u001b[0;34m**\u001b[0m\u001b[0mkwargs\u001b[0m\u001b[0;34m)\u001b[0m\u001b[0;34m\u001b[0m\u001b[0;34m\u001b[0m\u001b[0m\n\u001b[0m\u001b[1;32m    123\u001b[0m \u001b[0;34m\u001b[0m\u001b[0m\n\u001b[1;32m    124\u001b[0m         \u001b[0;32mif\u001b[0m \u001b[0mcleanup\u001b[0m\u001b[0;34m:\u001b[0m\u001b[0;34m\u001b[0m\u001b[0;34m\u001b[0m\u001b[0m\n",
            "\u001b[0;32m/usr/local/lib/python3.11/dist-packages/graphviz/_tools.py\u001b[0m in \u001b[0;36mwrapper\u001b[0;34m(*args, **kwargs)\u001b[0m\n\u001b[1;32m    169\u001b[0m                               category=category)\n\u001b[1;32m    170\u001b[0m \u001b[0;34m\u001b[0m\u001b[0m\n\u001b[0;32m--> 171\u001b[0;31m             \u001b[0;32mreturn\u001b[0m \u001b[0mfunc\u001b[0m\u001b[0;34m(\u001b[0m\u001b[0;34m*\u001b[0m\u001b[0margs\u001b[0m\u001b[0;34m,\u001b[0m \u001b[0;34m**\u001b[0m\u001b[0mkwargs\u001b[0m\u001b[0;34m)\u001b[0m\u001b[0;34m\u001b[0m\u001b[0;34m\u001b[0m\u001b[0m\n\u001b[0m\u001b[1;32m    172\u001b[0m \u001b[0;34m\u001b[0m\u001b[0m\n\u001b[1;32m    173\u001b[0m         \u001b[0;32mreturn\u001b[0m \u001b[0mwrapper\u001b[0m\u001b[0;34m\u001b[0m\u001b[0;34m\u001b[0m\u001b[0m\n",
            "\u001b[0;32m/usr/local/lib/python3.11/dist-packages/graphviz/backend/rendering.py\u001b[0m in \u001b[0;36mrender\u001b[0;34m(engine, format, filepath, renderer, formatter, neato_no_op, quiet, outfile, raise_if_result_exists, overwrite_filepath)\u001b[0m\n\u001b[1;32m    324\u001b[0m     \u001b[0;32massert\u001b[0m \u001b[0mfilepath\u001b[0m \u001b[0;32mis\u001b[0m \u001b[0;32mnot\u001b[0m \u001b[0;32mNone\u001b[0m\u001b[0;34m,\u001b[0m \u001b[0;34m'work around pytype false alarm'\u001b[0m\u001b[0;34m\u001b[0m\u001b[0;34m\u001b[0m\u001b[0m\n\u001b[1;32m    325\u001b[0m \u001b[0;34m\u001b[0m\u001b[0m\n\u001b[0;32m--> 326\u001b[0;31m     execute.run_check(cmd,\n\u001b[0m\u001b[1;32m    327\u001b[0m                       \u001b[0mcwd\u001b[0m\u001b[0;34m=\u001b[0m\u001b[0mfilepath\u001b[0m\u001b[0;34m.\u001b[0m\u001b[0mparent\u001b[0m \u001b[0;32mif\u001b[0m \u001b[0mfilepath\u001b[0m\u001b[0;34m.\u001b[0m\u001b[0mparent\u001b[0m\u001b[0;34m.\u001b[0m\u001b[0mparts\u001b[0m \u001b[0;32melse\u001b[0m \u001b[0;32mNone\u001b[0m\u001b[0;34m,\u001b[0m\u001b[0;34m\u001b[0m\u001b[0;34m\u001b[0m\u001b[0m\n\u001b[1;32m    328\u001b[0m                       \u001b[0mquiet\u001b[0m\u001b[0;34m=\u001b[0m\u001b[0mquiet\u001b[0m\u001b[0;34m,\u001b[0m\u001b[0;34m\u001b[0m\u001b[0;34m\u001b[0m\u001b[0m\n",
            "\u001b[0;32m/usr/local/lib/python3.11/dist-packages/graphviz/backend/execute.py\u001b[0m in \u001b[0;36mrun_check\u001b[0;34m(cmd, input_lines, encoding, quiet, **kwargs)\u001b[0m\n\u001b[1;32m     76\u001b[0m             \u001b[0mproc\u001b[0m \u001b[0;34m=\u001b[0m \u001b[0m_run_input_lines\u001b[0m\u001b[0;34m(\u001b[0m\u001b[0mcmd\u001b[0m\u001b[0;34m,\u001b[0m \u001b[0minput_lines\u001b[0m\u001b[0;34m,\u001b[0m \u001b[0mkwargs\u001b[0m\u001b[0;34m=\u001b[0m\u001b[0mkwargs\u001b[0m\u001b[0;34m)\u001b[0m\u001b[0;34m\u001b[0m\u001b[0;34m\u001b[0m\u001b[0m\n\u001b[1;32m     77\u001b[0m         \u001b[0;32melse\u001b[0m\u001b[0;34m:\u001b[0m\u001b[0;34m\u001b[0m\u001b[0;34m\u001b[0m\u001b[0m\n\u001b[0;32m---> 78\u001b[0;31m             \u001b[0mproc\u001b[0m \u001b[0;34m=\u001b[0m \u001b[0msubprocess\u001b[0m\u001b[0;34m.\u001b[0m\u001b[0mrun\u001b[0m\u001b[0;34m(\u001b[0m\u001b[0mcmd\u001b[0m\u001b[0;34m,\u001b[0m \u001b[0;34m**\u001b[0m\u001b[0mkwargs\u001b[0m\u001b[0;34m)\u001b[0m\u001b[0;34m\u001b[0m\u001b[0;34m\u001b[0m\u001b[0m\n\u001b[0m\u001b[1;32m     79\u001b[0m     \u001b[0;32mexcept\u001b[0m \u001b[0mOSError\u001b[0m \u001b[0;32mas\u001b[0m \u001b[0me\u001b[0m\u001b[0;34m:\u001b[0m\u001b[0;34m\u001b[0m\u001b[0;34m\u001b[0m\u001b[0m\n\u001b[1;32m     80\u001b[0m         \u001b[0;32mif\u001b[0m \u001b[0me\u001b[0m\u001b[0;34m.\u001b[0m\u001b[0merrno\u001b[0m \u001b[0;34m==\u001b[0m \u001b[0merrno\u001b[0m\u001b[0;34m.\u001b[0m\u001b[0mENOENT\u001b[0m\u001b[0;34m:\u001b[0m\u001b[0;34m\u001b[0m\u001b[0;34m\u001b[0m\u001b[0m\n",
            "\u001b[0;32m/usr/lib/python3.11/subprocess.py\u001b[0m in \u001b[0;36mrun\u001b[0;34m(input, capture_output, timeout, check, *popenargs, **kwargs)\u001b[0m\n\u001b[1;32m    548\u001b[0m     \u001b[0;32mwith\u001b[0m \u001b[0mPopen\u001b[0m\u001b[0;34m(\u001b[0m\u001b[0;34m*\u001b[0m\u001b[0mpopenargs\u001b[0m\u001b[0;34m,\u001b[0m \u001b[0;34m**\u001b[0m\u001b[0mkwargs\u001b[0m\u001b[0;34m)\u001b[0m \u001b[0;32mas\u001b[0m \u001b[0mprocess\u001b[0m\u001b[0;34m:\u001b[0m\u001b[0;34m\u001b[0m\u001b[0;34m\u001b[0m\u001b[0m\n\u001b[1;32m    549\u001b[0m         \u001b[0;32mtry\u001b[0m\u001b[0;34m:\u001b[0m\u001b[0;34m\u001b[0m\u001b[0;34m\u001b[0m\u001b[0m\n\u001b[0;32m--> 550\u001b[0;31m             \u001b[0mstdout\u001b[0m\u001b[0;34m,\u001b[0m \u001b[0mstderr\u001b[0m \u001b[0;34m=\u001b[0m \u001b[0mprocess\u001b[0m\u001b[0;34m.\u001b[0m\u001b[0mcommunicate\u001b[0m\u001b[0;34m(\u001b[0m\u001b[0minput\u001b[0m\u001b[0;34m,\u001b[0m \u001b[0mtimeout\u001b[0m\u001b[0;34m=\u001b[0m\u001b[0mtimeout\u001b[0m\u001b[0;34m)\u001b[0m\u001b[0;34m\u001b[0m\u001b[0;34m\u001b[0m\u001b[0m\n\u001b[0m\u001b[1;32m    551\u001b[0m         \u001b[0;32mexcept\u001b[0m \u001b[0mTimeoutExpired\u001b[0m \u001b[0;32mas\u001b[0m \u001b[0mexc\u001b[0m\u001b[0;34m:\u001b[0m\u001b[0;34m\u001b[0m\u001b[0;34m\u001b[0m\u001b[0m\n\u001b[1;32m    552\u001b[0m             \u001b[0mprocess\u001b[0m\u001b[0;34m.\u001b[0m\u001b[0mkill\u001b[0m\u001b[0;34m(\u001b[0m\u001b[0;34m)\u001b[0m\u001b[0;34m\u001b[0m\u001b[0;34m\u001b[0m\u001b[0m\n",
            "\u001b[0;32m/usr/lib/python3.11/subprocess.py\u001b[0m in \u001b[0;36mcommunicate\u001b[0;34m(self, input, timeout)\u001b[0m\n\u001b[1;32m   1207\u001b[0m \u001b[0;34m\u001b[0m\u001b[0m\n\u001b[1;32m   1208\u001b[0m             \u001b[0;32mtry\u001b[0m\u001b[0;34m:\u001b[0m\u001b[0;34m\u001b[0m\u001b[0;34m\u001b[0m\u001b[0m\n\u001b[0;32m-> 1209\u001b[0;31m                 \u001b[0mstdout\u001b[0m\u001b[0;34m,\u001b[0m \u001b[0mstderr\u001b[0m \u001b[0;34m=\u001b[0m \u001b[0mself\u001b[0m\u001b[0;34m.\u001b[0m\u001b[0m_communicate\u001b[0m\u001b[0;34m(\u001b[0m\u001b[0minput\u001b[0m\u001b[0;34m,\u001b[0m \u001b[0mendtime\u001b[0m\u001b[0;34m,\u001b[0m \u001b[0mtimeout\u001b[0m\u001b[0;34m)\u001b[0m\u001b[0;34m\u001b[0m\u001b[0;34m\u001b[0m\u001b[0m\n\u001b[0m\u001b[1;32m   1210\u001b[0m             \u001b[0;32mexcept\u001b[0m \u001b[0mKeyboardInterrupt\u001b[0m\u001b[0;34m:\u001b[0m\u001b[0;34m\u001b[0m\u001b[0;34m\u001b[0m\u001b[0m\n\u001b[1;32m   1211\u001b[0m                 \u001b[0;31m# https://bugs.python.org/issue25942\u001b[0m\u001b[0;34m\u001b[0m\u001b[0;34m\u001b[0m\u001b[0m\n",
            "\u001b[0;32m/usr/lib/python3.11/subprocess.py\u001b[0m in \u001b[0;36m_communicate\u001b[0;34m(self, input, endtime, orig_timeout)\u001b[0m\n\u001b[1;32m   2113\u001b[0m                             'failed to raise TimeoutExpired.')\n\u001b[1;32m   2114\u001b[0m \u001b[0;34m\u001b[0m\u001b[0m\n\u001b[0;32m-> 2115\u001b[0;31m                     \u001b[0mready\u001b[0m \u001b[0;34m=\u001b[0m \u001b[0mselector\u001b[0m\u001b[0;34m.\u001b[0m\u001b[0mselect\u001b[0m\u001b[0;34m(\u001b[0m\u001b[0mtimeout\u001b[0m\u001b[0;34m)\u001b[0m\u001b[0;34m\u001b[0m\u001b[0;34m\u001b[0m\u001b[0m\n\u001b[0m\u001b[1;32m   2116\u001b[0m                     \u001b[0mself\u001b[0m\u001b[0;34m.\u001b[0m\u001b[0m_check_timeout\u001b[0m\u001b[0;34m(\u001b[0m\u001b[0mendtime\u001b[0m\u001b[0;34m,\u001b[0m \u001b[0morig_timeout\u001b[0m\u001b[0;34m,\u001b[0m \u001b[0mstdout\u001b[0m\u001b[0;34m,\u001b[0m \u001b[0mstderr\u001b[0m\u001b[0;34m)\u001b[0m\u001b[0;34m\u001b[0m\u001b[0;34m\u001b[0m\u001b[0m\n\u001b[1;32m   2117\u001b[0m \u001b[0;34m\u001b[0m\u001b[0m\n",
            "\u001b[0;32m/usr/lib/python3.11/selectors.py\u001b[0m in \u001b[0;36mselect\u001b[0;34m(self, timeout)\u001b[0m\n\u001b[1;32m    413\u001b[0m         \u001b[0mready\u001b[0m \u001b[0;34m=\u001b[0m \u001b[0;34m[\u001b[0m\u001b[0;34m]\u001b[0m\u001b[0;34m\u001b[0m\u001b[0;34m\u001b[0m\u001b[0m\n\u001b[1;32m    414\u001b[0m         \u001b[0;32mtry\u001b[0m\u001b[0;34m:\u001b[0m\u001b[0;34m\u001b[0m\u001b[0;34m\u001b[0m\u001b[0m\n\u001b[0;32m--> 415\u001b[0;31m             \u001b[0mfd_event_list\u001b[0m \u001b[0;34m=\u001b[0m \u001b[0mself\u001b[0m\u001b[0;34m.\u001b[0m\u001b[0m_selector\u001b[0m\u001b[0;34m.\u001b[0m\u001b[0mpoll\u001b[0m\u001b[0;34m(\u001b[0m\u001b[0mtimeout\u001b[0m\u001b[0;34m)\u001b[0m\u001b[0;34m\u001b[0m\u001b[0;34m\u001b[0m\u001b[0m\n\u001b[0m\u001b[1;32m    416\u001b[0m         \u001b[0;32mexcept\u001b[0m \u001b[0mInterruptedError\u001b[0m\u001b[0;34m:\u001b[0m\u001b[0;34m\u001b[0m\u001b[0;34m\u001b[0m\u001b[0m\n\u001b[1;32m    417\u001b[0m             \u001b[0;32mreturn\u001b[0m \u001b[0mready\u001b[0m\u001b[0;34m\u001b[0m\u001b[0;34m\u001b[0m\u001b[0m\n",
            "\u001b[0;31mKeyboardInterrupt\u001b[0m: "
          ]
        }
      ]
    },
    {
      "cell_type": "markdown",
      "source": [
        "Aca en la ruta del sistema nos genera todos los diagramas de las transacciones"
      ],
      "metadata": {
        "id": "7KUsW4LEzzwB"
      }
    },
    {
      "cell_type": "markdown",
      "source": [
        "## 2.2. Tiempos de latencia por etapa."
      ],
      "metadata": {
        "id": "cYKcnjCtVo-0"
      }
    },
    {
      "cell_type": "markdown",
      "source": [
        "### Tiempo entre SecuCheck y MidFlow_ESB"
      ],
      "metadata": {
        "id": "M1VleOdM6d7Q"
      }
    },
    {
      "cell_type": "code",
      "source": [
        "# Combinar y convertir a datetime\n",
        "unl['datetime_secu'] = pd.to_datetime(unl['date_secu'] + ' ' + unl['time_secu'], dayfirst=True)\n",
        "unl['datetime_mid'] = pd.to_datetime(unl['date_mid'] + ' ' + unl['time_mid'], dayfirst=True)\n",
        "\n",
        "# Calcular diferencia en segundos entre secu y mid\n",
        "unl['tiempo_total_segundos'] = (unl['datetime_mid'] - unl['datetime_secu']).dt.total_seconds()\n",
        "\n",
        "unl['latency_sec'] = unl['latency_ms'] / 1000\n"
      ],
      "metadata": {
        "id": "HBCM1Duz60hH"
      },
      "execution_count": 240,
      "outputs": []
    },
    {
      "cell_type": "code",
      "source": [
        "import matplotlib.pyplot as plt\n",
        "\n",
        "plt.figure(figsize=(10, 6))\n",
        "plt.hist(unl['tiempo_total_segundos'], bins=30, color='#64A6E3', edgecolor='black')\n",
        "\n",
        "plt.title('Distribución del Tiempo entre SECU y MID')\n",
        "plt.xlabel('Tiempo total en segundos')\n",
        "plt.ylabel('Frecuencia')\n",
        "plt.grid(True)\n",
        "plt.show()"
      ],
      "metadata": {
        "colab": {
          "base_uri": "https://localhost:8080/",
          "height": 565
        },
        "id": "TIbnK4GQ8j30",
        "outputId": "66a907ce-2939-4b3d-d4ac-ceb903675e03"
      },
      "execution_count": 241,
      "outputs": [
        {
          "output_type": "display_data",
          "data": {
            "text/plain": [
              "<Figure size 1000x600 with 1 Axes>"
            ],
            "image/png": "[encoded data removed]"
          },
          "metadata": {}
        }
      ]
    },
    {
      "cell_type": "markdown",
      "source": [
        "A partir del análisis de los datos, se observa que el tiempo de latencia entre el inicio del módulo SecuCheck y el inicio del módulo ESB se encuentra predominantemente en el rango de 5 a 6 segundos. Esta distribución sugiere una consistencia en el comportamiento del sistema, indicando que el proceso de transición entre ambos módulos mantiene una latencia relativamente estable dentro de ese intervalo."
      ],
      "metadata": {
        "id": "Vaal2TZha1RX"
      }
    },
    {
      "cell_type": "markdown",
      "source": [
        "### Tiempo entre MidFlow y CoreBank"
      ],
      "metadata": {
        "id": "NHFUmYbJF8yc"
      }
    },
    {
      "cell_type": "code",
      "source": [
        "import matplotlib.pyplot as plt\n",
        "import pandas as pd\n",
        "\n",
        "# 1. Filtrar filas que tienen latencia válida\n",
        "latency_data = unl.dropna(subset=['latency_sec'])\n",
        "\n",
        "# 2. Graficar latencias ordenadas\n",
        "latency_data = unl.dropna(subset=['latency_sec'])\n",
        "\n",
        "plt.figure(figsize=(12, 6))\n",
        "plt.scatter(latency_data.index, latency_data['latency_sec'], color='#64A6E3', s=20)\n",
        "\n",
        "plt.title('Latencia por Transacción (índice)')\n",
        "plt.xlabel('Índice')\n",
        "plt.ylabel('Latencia (segundos)')\n",
        "plt.grid(True)\n",
        "plt.show()"
      ],
      "metadata": {
        "colab": {
          "base_uri": "https://localhost:8080/",
          "height": 565
        },
        "id": "qTRq4lRTGFHs",
        "outputId": "3181af8d-f845-4db0-f23f-7abdd4e94cea"
      },
      "execution_count": 242,
      "outputs": [
        {
          "output_type": "display_data",
          "data": {
            "text/plain": [
              "<Figure size 1200x600 with 1 Axes>"
            ],
            "image/png": "[encoded data removed]"
          },
          "metadata": {}
        }
      ]
    },
    {
      "cell_type": "markdown",
      "source": [
        "El gráfico de dispersión de latencia por transacción permite visualizar el comportamiento individual de cada transacción en términos de tiempo de respuesta. Se observa que la mayoría de las latencias se encuentran dentro de un rango estable, lo que sugiere un rendimiento consistente del sistema"
      ],
      "metadata": {
        "id": "Fpmd0mCCbCxY"
      }
    },
    {
      "cell_type": "markdown",
      "source": [
        "### Tiempo total de una ejecucion total"
      ],
      "metadata": {
        "id": "ZE9c5OPK6VU8"
      }
    },
    {
      "cell_type": "code",
      "source": [
        "# Combinar y convertir a datetime\n",
        "unl['datetime_secu'] = pd.to_datetime(unl['date_secu'] + ' ' + unl['time_secu'], dayfirst=True)\n",
        "unl['datetime_mid'] = pd.to_datetime(unl['date_mid'] + ' ' + unl['time_mid'], dayfirst=True)\n",
        "\n",
        "# Calcular diferencia en segundos\n",
        "unl['diff_sec_secu_mid'] = (unl['datetime_mid'] - unl['datetime_secu']).dt.total_seconds()\n",
        "\n",
        "# Convertir latency_ms a segundos\n",
        "unl['latency_sec'] = unl['latency_ms'] / 1000\n",
        "\n",
        "# Sumar la latencia a la diferencia\n",
        "unl['tiempo_total_segundos'] = unl['diff_sec_secu_mid'] + unl['latency_sec']"
      ],
      "metadata": {
        "id": "tRjWpwIlOw4H"
      },
      "execution_count": 244,
      "outputs": []
    },
    {
      "cell_type": "code",
      "source": [
        "plt.figure(figsize=(12, 6))\n",
        "plt.scatter(unl.index, unl['tiempo_total_segundos'], color='#64A6E3', s=20)\n",
        "\n",
        "plt.title('Tiempo Total por Transacción (índice)')\n",
        "plt.xlabel('Índice')\n",
        "plt.ylabel('Tiempo total en segundos')\n",
        "plt.grid(True)\n",
        "plt.show()"
      ],
      "metadata": {
        "colab": {
          "base_uri": "https://localhost:8080/",
          "height": 565
        },
        "id": "v_QtwxHV-J5B",
        "outputId": "6fbb268c-b6fd-4d31-e448-ed4229c664f1"
      },
      "execution_count": 245,
      "outputs": [
        {
          "output_type": "display_data",
          "data": {
            "text/plain": [
              "<Figure size 1200x600 with 1 Axes>"
            ],
            "image/png": "[encoded data removed]"
          },
          "metadata": {}
        }
      ]
    },
    {
      "cell_type": "markdown",
      "source": [
        "El sistema muestra un rendimiento muy estable, con tiempos de respuesta concentrados entre 6.05 y 6.30 segundos y sin anomalías evidentes. No se observan tendencias ni fluctuaciones extremas, lo que indica un comportamiento predecible y consistente en más de 1750 transacciones."
      ],
      "metadata": {
        "id": "V2A1rHVkEBtg"
      }
    },
    {
      "cell_type": "markdown",
      "source": [
        "## 2.3. Resultados de validación vs ejecución real.\n"
      ],
      "metadata": {
        "id": "vR8a3tRQPhW8"
      }
    },
    {
      "cell_type": "code",
      "source": [
        "# Filtrar solo transacciones que fueron Aprobadas o Rechazadas\n",
        "validaciones = unl[unl['resultado_validación'].isin(['Aprobada', 'Rechazada'])]\n",
        "\n",
        "# Contar cuántas fueron Completadas dentro de cada grupo de resultado_validación\n",
        "completadas = validaciones[validaciones['estado'] == 'Completada']['resultado_validación'].value_counts()\n",
        "\n",
        "# Contar el total por tipo (Aprobada y Rechazada)\n",
        "totales = validaciones['resultado_validación'].value_counts()\n",
        "\n",
        "# Combinar ambos conteos en un DataFrame\n",
        "comparacion = pd.DataFrame({\n",
        "    'Total': totales,\n",
        "    'Completadas': completadas\n",
        "}).fillna(0)\n",
        "\n",
        "# Asegurar que sean enteros\n",
        "comparacion = comparacion.astype(int)\n",
        "\n",
        "print(comparacion)"
      ],
      "metadata": {
        "colab": {
          "base_uri": "https://localhost:8080/"
        },
        "id": "79i7yKFOP6Py",
        "outputId": "24d010e0-458e-49b1-f133-63d9cbcd8140"
      },
      "execution_count": 246,
      "outputs": [
        {
          "output_type": "stream",
          "name": "stdout",
          "text": [
            "                      Total  Completadas\n",
            "resultado_validación                    \n",
            "Aprobada               1788         1746\n",
            "Rechazada                85            0\n"
          ]
        }
      ]
    },
    {
      "cell_type": "code",
      "source": [
        "# Graficar comparación\n",
        "comparacion.plot(kind='bar', figsize=(8, 6), color=['#0960ae', '#64a6e3'])\n",
        "\n",
        "plt.title('Comparación de Completadas vs. Totales (por Resultado de Validación)')\n",
        "plt.xlabel('Resultado de Validación')\n",
        "plt.ylabel('Cantidad de Transacciones')\n",
        "plt.xticks(rotation=0)\n",
        "plt.legend(title='Estado')\n",
        "plt.grid(axis='y')\n",
        "plt.tight_layout()\n",
        "plt.show()"
      ],
      "metadata": {
        "colab": {
          "base_uri": "https://localhost:8080/",
          "height": 607
        },
        "id": "iW6sSFKdSUjZ",
        "outputId": "3dc5751a-c5c5-4012-c065-c7e049c4e89a"
      },
      "execution_count": 247,
      "outputs": [
        {
          "output_type": "display_data",
          "data": {
            "text/plain": [
              "<Figure size 800x600 with 1 Axes>"
            ],
            "image/png": "[encoded data removed]"
          },
          "metadata": {}
        }
      ]
    },
    {
      "cell_type": "markdown",
      "source": [
        "La gráfica muestra cómo las transacciones con estado \"Completada\" se distribuyen frente al total de transacciones Aprobadas y Rechazadas. Se observa que la mayoría de las Aprobadas llegan a completarse exitosamente, lo que refleja un flujo efectivo del proceso para los casos válidos. En contraste, las transacciones Rechazadas casi nunca alcanzan un estado de completado, lo cual es esperable dado que fallan en alguna etapa del proceso de validación. Esto evidencia que el sistema está funcionando correctamente al bloquear intentos inválidos y permitiendo solo transacciones seguras."
      ],
      "metadata": {
        "id": "4uEKc26fTphI"
      }
    },
    {
      "cell_type": "markdown",
      "source": [
        "## 2.4. Transacciones rechazadas o fallidas y sus causas."
      ],
      "metadata": {
        "id": "PEAoe20wP2fP"
      }
    },
    {
      "cell_type": "markdown",
      "source": [
        "### Trasacciones Rechazadas y aprovadas"
      ],
      "metadata": {
        "id": "N0J_vyM_QLkA"
      }
    },
    {
      "cell_type": "code",
      "source": [
        "# Contar cantidad de transacciones por resultado de validación\n",
        "conteo_resultados = unl['resultado_validación'].value_counts()\n",
        "\n",
        "# Graficar\n",
        "plt.figure(figsize=(8, 5))\n",
        "plt.bar(conteo_resultados.index, conteo_resultados.values, color=['#64a6e3', '#b8d1e7'])  # verde y rojo\n",
        "\n",
        "plt.title('Cantidad de Transacciones Aprobadas vs Rechazadas')\n",
        "plt.xlabel('Resultado de Validación')\n",
        "plt.ylabel('Cantidad')\n",
        "plt.grid(axis='y')\n",
        "plt.show()"
      ],
      "metadata": {
        "colab": {
          "base_uri": "https://localhost:8080/",
          "height": 487
        },
        "id": "wEBpjxfNP7AM",
        "outputId": "696cc4fe-7294-42bc-a59b-3ccf63766cbb"
      },
      "execution_count": 248,
      "outputs": [
        {
          "output_type": "display_data",
          "data": {
            "text/plain": [
              "<Figure size 800x500 with 1 Axes>"
            ],
            "image/png": "[encoded data removed]"
          },
          "metadata": {}
        }
      ]
    },
    {
      "cell_type": "markdown",
      "source": [
        "Esta gráfica muestra una distribución muy desbalanceada con aproximadamente 1,750 transacciones aprobadas versus solo menos 100 rechazadas, representando una tasa de aprobación del 95%. El sistema demuestra un rendimiento excelente al procesar correctamente la gran mayoría de transacciones, mientras que el bajo número de rechazos sugiere que los criterios de validación están bien ajustados y los usuarios/sistemas que envían las transacciones generalmente cumplen con los requisitos establecidos."
      ],
      "metadata": {
        "id": "Ubo2nPUeVh_i"
      }
    },
    {
      "cell_type": "code",
      "source": [
        "# Filtrar solo las transacciones rechazadas\n",
        "rechazadas = unl[unl['resultado_validación'] == 'Rechazada']\n",
        "\n",
        "# Contar los motivos de fallo\n",
        "motivos = rechazadas['motivo_fallo'].value_counts()\n",
        "\n",
        "# Mostrar en tabla\n",
        "print(\"Motivos de fallo más comunes:\")\n",
        "print(motivos)\n",
        "\n",
        "# Graficar\n",
        "plt.figure(figsize=(10, 6))\n",
        "motivos.plot(kind='barh', color='#3e8fd8')  # Gráfico de barras horizontales\n",
        "\n",
        "plt.title('Motivos de Fallo Más Comunes en Transacciones Rechazadas')\n",
        "plt.xlabel('Cantidad de Rechazos')\n",
        "plt.ylabel('Motivo de Fallo')\n",
        "plt.gca().invert_yaxis()  # Motivo más frecuente arriba\n",
        "plt.grid(axis='x')\n",
        "plt.tight_layout()\n",
        "plt.show()"
      ],
      "metadata": {
        "colab": {
          "base_uri": "https://localhost:8080/",
          "height": 711
        },
        "id": "nxsy3ZlpQvKH",
        "outputId": "8085ea5c-438a-4aeb-aba1-4a22fba5e282"
      },
      "execution_count": 250,
      "outputs": [
        {
          "output_type": "stream",
          "name": "stdout",
          "text": [
            "Motivos de fallo más comunes:\n",
            "motivo_fallo\n",
            "IP sospechosa             31\n",
            "Límite diario excedido    30\n",
            "Token inválido            24\n",
            "Name: count, dtype: int64\n"
          ]
        },
        {
          "output_type": "display_data",
          "data": {
            "text/plain": [
              "<Figure size 1000x600 with 1 Axes>"
            ],
            "image/png": "[encoded data removed]"
          },
          "metadata": {}
        }
      ]
    },
    {
      "cell_type": "markdown",
      "source": [
        "El análisis de los motivos de fallo revela que los errores más comunes están relacionados con \"IP Sospechosa\", seguido por \"Límite diario excedido\" y \"Token Invalido\". Esto indica que gran parte de los rechazos provienen de problemas de autenticación o intentos sospechosos desde ubicaciones no confiables. Estos hallazgos pueden ser útiles para fortalecer las reglas de seguridad, como mejorar la validación de tokens o implementar filtros más rigurosos por geolocalización o frecuencia de intentos.\n",
        "\n",
        "\n",
        "\n",
        "\n",
        "\n",
        "\n",
        "\n"
      ],
      "metadata": {
        "id": "kjwzaG-sT57_"
      }
    },
    {
      "cell_type": "markdown",
      "source": [
        "### Cantidad de Peticiones por Módulo"
      ],
      "metadata": {
        "id": "cZb6VHVLQ34h"
      }
    },
    {
      "cell_type": "code",
      "source": [
        "# Contar cantidad de transacciones por módulo\n",
        "modulos = unl['modulo'].value_counts()\n",
        "\n",
        "# Graficar\n",
        "plt.figure(figsize=(8, 6))\n",
        "modulos.plot(kind='bar', color='#0960ae')\n",
        "\n",
        "plt.title('Cantidad de Peticiones por Módulo')\n",
        "plt.xlabel('Módulo')\n",
        "plt.ylabel('Cantidad de Peticiones')\n",
        "plt.xticks(rotation=0)\n",
        "plt.grid(axis='y')\n",
        "plt.tight_layout()\n",
        "plt.show()"
      ],
      "metadata": {
        "colab": {
          "base_uri": "https://localhost:8080/",
          "height": 607
        },
        "id": "VXTk_W3IRGUD",
        "outputId": "556d76cc-32f6-4876-b7a6-06a3b363c83e"
      },
      "execution_count": 251,
      "outputs": [
        {
          "output_type": "display_data",
          "data": {
            "text/plain": [
              "<Figure size 800x600 with 1 Axes>"
            ],
            "image/png": "[encoded data removed]"
          },
          "metadata": {}
        }
      ]
    },
    {
      "cell_type": "markdown",
      "source": [
        "La mayoría de las peticiones se realizan desde el módulo \"api\", seguido por \"web\" y en menor proporción por \"mobile\". Esto sugiere que los usuarios interactúan principalmente a través de apis externas, lo cual podría reflejar una tendencia hacia el uso del sistema. Este comportamiento puede orientar decisiones futuras sobre dónde enfocar optimizaciones, pruebas y medidas de seguridad."
      ],
      "metadata": {
        "id": "sqf0kTjRT70k"
      }
    },
    {
      "cell_type": "markdown",
      "source": [
        "### Cantidad de Operaciones Realizadas"
      ],
      "metadata": {
        "id": "_jbMeZtJRSf5"
      }
    },
    {
      "cell_type": "code",
      "source": [
        "# Contar las operaciones más frecuentes\n",
        "operaciones = unl['operation'].value_counts()\n",
        "\n",
        "# Mostrar en tabla\n",
        "print(\"Cantidad de operaciones:\")\n",
        "print(operaciones)\n",
        "\n",
        "# Graficar\n",
        "plt.figure(figsize=(8, 6))\n",
        "operaciones.plot(kind='bar', color='#64a6e3')\n",
        "\n",
        "plt.title('Cantidad de Operaciones Realizadas')\n",
        "plt.xlabel('Operación')\n",
        "plt.ylabel('Cantidad')\n",
        "plt.xticks(rotation=45)\n",
        "plt.grid(axis='y')\n",
        "plt.tight_layout()\n",
        "plt.show()"
      ],
      "metadata": {
        "colab": {
          "base_uri": "https://localhost:8080/",
          "height": 711
        },
        "id": "ksYfHhqTRhPo",
        "outputId": "6d9950d0-9932-4da5-baa4-1369c96c4b38"
      },
      "execution_count": 252,
      "outputs": [
        {
          "output_type": "stream",
          "name": "stdout",
          "text": [
            "Cantidad de operaciones:\n",
            "operation\n",
            "consignar     648\n",
            "transferir    594\n",
            "retirar       546\n",
            "Name: count, dtype: int64\n"
          ]
        },
        {
          "output_type": "display_data",
          "data": {
            "text/plain": [
              "<Figure size 800x600 with 1 Axes>"
            ],
            "image/png": "[encoded data removed]"
          },
          "metadata": {}
        }
      ]
    },
    {
      "cell_type": "markdown",
      "source": [
        "\n",
        "Esta gráfica, \"Cantidad de Operaciones Realizadas\", muestra las frecuencias de tres tipos de operaciones bancarias: \"consignar\", \"transferir\" y \"retirar\". La operación de \"consignar\" es la más frecuente, con más de 650 operaciones. Le sigue \"transferir\", con casi 600, y finalmente \"retirar\", con aproximadamente 550 operaciones. Esto indica que las consignaciones son las transacciones más comunes, aunque los otros dos tipos de operaciones también tienen una presencia significativa."
      ],
      "metadata": {
        "id": "Cd8ZIuc6W2He"
      }
    },
    {
      "cell_type": "markdown",
      "source": [
        "## 2.5. Identificacion de transacciones que no deberian estar en los logs"
      ],
      "metadata": {
        "id": "g2zPT_3Cu6oG"
      }
    },
    {
      "cell_type": "code",
      "source": [
        "# Filtrar registros con ERROR\n",
        "aprobados_con_error = unl[(unl['nivel_log'] == 'ERROR') & (unl['estado'] == 'Completada')]\n",
        "\n",
        "# Contar cuántos hay\n",
        "cantidad = len(aprobados_con_error)\n",
        "print(f\"Total de ERRORES que fueron Aprovados: {cantidad}\")"
      ],
      "metadata": {
        "colab": {
          "base_uri": "https://localhost:8080/"
        },
        "id": "EsTZ9TKbvA8y",
        "outputId": "d20a7844-0863-4b3d-94aa-a4ac3cb0ce17"
      },
      "execution_count": 253,
      "outputs": [
        {
          "output_type": "stream",
          "name": "stdout",
          "text": [
            "Total de ERRORES que fueron Aprovados: 0\n"
          ]
        }
      ]
    },
    {
      "cell_type": "markdown",
      "source": [
        "# Modulo 3"
      ],
      "metadata": {
        "id": "lgC0jMQ6onOk"
      }
    },
    {
      "cell_type": "markdown",
      "source": [
        "### 3.1. Transacciones Aprovadas en SecuCheck pero no ejecutadas"
      ],
      "metadata": {
        "id": "wbSuI-ACosc7"
      }
    },
    {
      "cell_type": "code",
      "source": [
        "# Filtrar registros aprobados con ERROR\n",
        "aprobados_con_error = unl[(unl['resultado_validación'] == 'Aprobada') & (unl['nivel_log'] == 'ERROR')]\n",
        "\n",
        "# Contar cuántos hay\n",
        "cantidad = len(aprobados_con_error)\n",
        "print(f\"Total de registros aprobados con ERROR: {cantidad}\")"
      ],
      "metadata": {
        "colab": {
          "base_uri": "https://localhost:8080/"
        },
        "id": "ILMqwM4jom9J",
        "outputId": "ab8b9fc2-5f83-4219-8fdd-b4150e48cb47"
      },
      "execution_count": 254,
      "outputs": [
        {
          "output_type": "stream",
          "name": "stdout",
          "text": [
            "Total de registros aprobados con ERROR: 42\n"
          ]
        }
      ]
    },
    {
      "cell_type": "code",
      "source": [
        "import pandas as pd\n",
        "import matplotlib.pyplot as plt\n",
        "import seaborn as sns\n",
        "\n",
        "# Filtrar registros aprobados con ERROR\n",
        "aprobados_con_error = unl[(unl['resultado_validación'] == 'Aprobada') & (unl['nivel_log'] == 'ERROR')]\n",
        "\n",
        "# Contar cuántos hay\n",
        "cantidad_aprobados_error = len(aprobados_con_error)\n",
        "print(f\"Total de registros aprobados con ERROR: {cantidad_aprobados_error}\")\n",
        "\n",
        "# Crear categorías para la gráfica de pie\n",
        "# Contar todas las combinaciones posibles\n",
        "aprobados_info = len(unl[(unl['resultado_validación'] == 'Aprobada') & (unl['nivel_log'] == 'INFO')])\n",
        "rechazados_error = len(unl[(unl['resultado_validación'] == 'Rechazada') & (unl['nivel_log'] == 'ERROR')])\n",
        "rechazados_info = len(unl[(unl['resultado_validación'] == 'Rechazada') & (unl['nivel_log'] == 'INFO')])\n",
        "\n",
        "# Datos para la gráfica\n",
        "categorias = ['Aprobada + INFO', 'Aprobada + ERROR', 'Rechazada + INFO', 'Rechazada + ERROR']\n",
        "valores = [aprobados_info, cantidad_aprobados_error, rechazados_info, rechazados_error]\n",
        "\n",
        "# Filtrar categorías con valores > 0 para que la gráfica sea más limpia\n",
        "categorias_filtradas = []\n",
        "valores_filtrados = []\n",
        "for i, valor in enumerate(valores):\n",
        "    if valor > 0:\n",
        "        categorias_filtradas.append(categorias[i])\n",
        "        valores_filtrados.append(valor)\n",
        "\n",
        "# Crear la gráfica de pie\n",
        "plt.figure(figsize=(10, 8))\n",
        "\n",
        "# Colores personalizados\n",
        "colores = ['#64a6e3', '#b8d1e7', '#f39c12', '#9b59b6'][:len(valores_filtrados)]\n",
        "\n",
        "# Crear el pie chart\n",
        "wedges, texts, autotexts = plt.pie(valores_filtrados,\n",
        "                                   labels=categorias_filtradas,\n",
        "                                   autopct='%1.1f%%',\n",
        "                                   startangle=90,\n",
        "                                   colors=colores,\n",
        "                                   explode=[0.1 if 'ERROR' in cat else 0 for cat in categorias_filtradas])  # Resaltar los errores\n",
        "\n",
        "# Personalizar el texto\n",
        "for autotext in autotexts:\n",
        "    autotext.set_color('white')\n",
        "    autotext.set_weight('bold')\n",
        "    autotext.set_fontsize(12)\n",
        "\n",
        "for text in texts:\n",
        "    text.set_fontsize(11)\n",
        "    text.set_weight('bold')\n",
        "\n",
        "# Título y configuración\n",
        "plt.title('Distribución de Validaciones por Resultado y Nivel de Log',\n",
        "          fontsize=16, fontweight='bold', pad=20)\n",
        "\n",
        "# Agregar una leyenda con los números exactos\n",
        "legend_labels = [f'{cat}: {val} registros' for cat, val in zip(categorias_filtradas, valores_filtrados)]\n",
        "plt.legend(legend_labels, loc='center left', bbox_to_anchor=(1, 0.5))\n",
        "\n",
        "# Ajustar el layout\n",
        "plt.tight_layout()\n",
        "\n",
        "# Mostrar la gráfica\n",
        "plt.show()\n"
      ],
      "metadata": {
        "colab": {
          "base_uri": "https://localhost:8080/",
          "height": 824
        },
        "id": "NSIkwSjfwQ_1",
        "outputId": "9c087d36-d22d-4a2d-8f05-3a085a8b3247"
      },
      "execution_count": 255,
      "outputs": [
        {
          "output_type": "stream",
          "name": "stdout",
          "text": [
            "Total de registros aprobados con ERROR: 42\n"
          ]
        },
        {
          "output_type": "display_data",
          "data": {
            "text/plain": [
              "<Figure size 1000x800 with 1 Axes>"
            ],
            "image/png": "[encoded data removed]"
          },
          "metadata": {}
        }
      ]
    },
    {
      "cell_type": "markdown",
      "source": [
        "La gran mayoría de las validaciones aprobadas (el 97.7%) están asociadas con logs de nivel INFO, mientras que solo el 2.3% presentan nivel ERROR. Esto indica que el sistema funciona correctamente en casi todos los casos, y los errores en validaciones aprobadas son poco frecuentes y podrían estar relacionados con situaciones atípicas o no críticas."
      ],
      "metadata": {
        "id": "B_O_LX9PdHeX"
      }
    },
    {
      "cell_type": "markdown",
      "source": [
        "## 3.2. Transacciones duplicadas o con latencias anormales"
      ],
      "metadata": {
        "id": "uGLQTCMPpa7d"
      }
    },
    {
      "cell_type": "markdown",
      "source": [
        "### Transacacciones Duplicadas"
      ],
      "metadata": {
        "id": "HC1LzIKRv1fg"
      }
    },
    {
      "cell_type": "code",
      "source": [
        "# Contar las ocurrencias de cada transaction_id\n",
        "conteo_transacciones = unl['transaction_id'].value_counts()\n",
        "\n",
        "# Filtrar los que aparecen más de 3 veces\n",
        "ids_mas_de_3 = conteo_transacciones[conteo_transacciones > 3]\n",
        "\n",
        "print(\"Transaction IDs con más de 3 registros:\")\n",
        "print(ids_mas_de_3)\n",
        "\n",
        "# Si quieres ver todos los registros completos de esos IDs\n",
        "registros_completos = unl[unl['transaction_id'].isin(ids_mas_de_3.index)]\n",
        "print(\"\\nRegistros completos:\")\n",
        "print(registros_completos)"
      ],
      "metadata": {
        "colab": {
          "base_uri": "https://localhost:8080/"
        },
        "id": "0AheE4KPtxdl",
        "outputId": "85afd40b-331e-4123-93eb-20de5fd36bb2"
      },
      "execution_count": 256,
      "outputs": [
        {
          "output_type": "stream",
          "name": "stdout",
          "text": [
            "Transaction IDs con más de 3 registros:\n",
            "Series([], Name: count, dtype: int64)\n",
            "\n",
            "Registros completos:\n",
            "Empty DataFrame\n",
            "Columns: [date_secu, time_secu, transaction_id, user_id, ip_address, resultado_validación, motivo_fallo, modulo, verificaciones_realizadas, date_mid, time_mid, nivel_log, direction, operation, status_code, latency_ms, date_core, time_core, cuenta, estado, valor, datetime_secu, datetime_mid, tiempo_total_segundos, latency_sec, diff_sec_secu_mid]\n",
            "Index: []\n",
            "\n",
            "[0 rows x 26 columns]\n"
          ]
        }
      ]
    },
    {
      "cell_type": "markdown",
      "source": [
        "Durante el análisis se evaluó la cantidad de registros asociados a cada transaction_id con el objetivo de identificar posibles duplicidades o casos en los que una transacción apareciera registrada múltiples veces a lo largo del flujo (por ejemplo, por reintentos, errores o desincronización entre módulos).\n",
        "El resultado mostró que no existen transaction_id con más de tres registros asociados, y de hecho, no se encontró ningún caso con más de un registro relevante que sugiera comportamiento irregular. Esto indica que no hay evidencia de transacciones repetidas o con múltiples pasos intermedios que no hayan sido correctamente gestionados. En resumen, no se detectaron transacciones duplicadas ni con trazas excesivas.\n"
      ],
      "metadata": {
        "id": "fVNdtOQzcp9m"
      }
    },
    {
      "cell_type": "markdown",
      "source": [
        "### Latencias Anormales"
      ],
      "metadata": {
        "id": "M5-zR7K7v4EY"
      }
    },
    {
      "cell_type": "code",
      "source": [
        "import pandas as pd\n",
        "import numpy as np\n",
        "\n",
        "# Calcular promedio excluyendo valores NaN\n",
        "promedio_tiempo = unl['tiempo_total_segundos'].mean()\n",
        "\n",
        "# Información adicional útil\n",
        "total_registros = len(unl['tiempo_total_segundos'])\n",
        "registros_validos = unl['tiempo_total_segundos'].count()  # Cuenta solo los no-NaN\n",
        "registros_nan = total_registros - registros_validos\n",
        "\n",
        "print(\"=\"*50)\n",
        "print(\"ANÁLISIS DE TIEMPOS\")\n",
        "print(\"=\"*50)\n",
        "print(f\"Promedio de tiempo: {promedio_tiempo:.3f} segundos\")\n",
        "print(f\"Total de registros: {total_registros}\")\n",
        "print(f\"Registros con datos válidos: {registros_validos}\")\n",
        "print(f\"Registros con NaN: {registros_nan}\")\n",
        "\n",
        "# Estadísticas adicionales\n",
        "if registros_validos > 0:\n",
        "    mediana = unl['tiempo_total_segundos'].median()\n",
        "    minimo = unl['tiempo_total_segundos'].min()\n",
        "    maximo = unl['tiempo_total_segundos'].max()\n",
        "    desviacion = unl['tiempo_total_segundos'].std()\n",
        "\n",
        "    print(f\"\\nESTADÍSTICAS ADICIONALES:\")\n",
        "    print(f\"Mediana: {mediana:.3f} segundos\")\n",
        "    print(f\"Mínimo: {minimo:.3f} segundos\")\n",
        "    print(f\"Máximo: {maximo:.3f} segundos\")\n",
        "    print(f\"Desviación estándar: {desviacion:.3f} segundos\")"
      ],
      "metadata": {
        "colab": {
          "base_uri": "https://localhost:8080/"
        },
        "id": "rJUwed_4v7Th",
        "outputId": "a7e73984-7a26-4fb3-fabc-2ce529a55ede"
      },
      "execution_count": 257,
      "outputs": [
        {
          "output_type": "stream",
          "name": "stdout",
          "text": [
            "==================================================\n",
            "ANÁLISIS DE TIEMPOS\n",
            "==================================================\n",
            "Promedio de tiempo: 6.177 segundos\n",
            "Total de registros: 1873\n",
            "Registros con datos válidos: 873\n",
            "Registros con NaN: 1000\n",
            "\n",
            "ESTADÍSTICAS ADICIONALES:\n",
            "Mediana: 6.173 segundos\n",
            "Mínimo: 6.050 segundos\n",
            "Máximo: 6.300 segundos\n",
            "Desviación estándar: 0.074 segundos\n"
          ]
        }
      ]
    },
    {
      "cell_type": "markdown",
      "source": [
        "A partir del análisis de tiempos registrado en el sistema, se obtuvo un total de 1,873 transacciones, de las cuales 873 contienen datos válidos de tiempo y 1,000 presentan valores nulos (NaN) porque algunos son del request (es decir, no lleva la trazabilidad de la transacción) y los otros se pudieron haber quedado en módulos anteriores.\n",
        "Estos valores reflejan un comportamiento estable y consistente del sistema en cuanto a latencia, ya que la diferencia entre el tiempo más rápido y el más lento es de solo 0.25 segundos, y tanto la media como la mediana son casi idénticas. Esto implica que los tiempos de respuesta están concentrados en un rango estrecho y no se identifican valores atípicos o fuera de lo normal. En otras palabras, no se detectaron latencias anormales en los registros disponibles.\n",
        "En conclusión, el sistema demuestra una latencia controlada y uniforme entre las transacciones medidas, lo cual es un buen indicador de rendimiento.\n"
      ],
      "metadata": {
        "id": "mYu7df98b9bd"
      }
    }
  ]
}